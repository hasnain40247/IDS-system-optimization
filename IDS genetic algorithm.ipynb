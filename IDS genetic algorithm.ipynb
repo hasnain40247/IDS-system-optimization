{
 "cells": [
  {
   "cell_type": "markdown",
   "id": "5df3683d",
   "metadata": {
    "execution": {
     "iopub.execute_input": "2022-03-20T09:19:11.219388Z",
     "iopub.status.busy": "2022-03-20T09:19:11.217715Z",
     "iopub.status.idle": "2022-03-20T09:19:11.222494Z",
     "shell.execute_reply": "2022-03-20T09:19:11.222989Z",
     "shell.execute_reply.started": "2022-03-20T08:24:06.581522Z"
    },
    "papermill": {
     "duration": 0.064217,
     "end_time": "2022-03-20T09:19:11.223312",
     "exception": false,
     "start_time": "2022-03-20T09:19:11.159095",
     "status": "completed"
    },
    "tags": []
   },
   "source": [
    "## CSE3502 Information Security Management"
   ]
  },
  {
   "cell_type": "markdown",
   "id": "eb774dfa",
   "metadata": {},
   "source": [
    "## Embedded Project"
   ]
  },
  {
   "cell_type": "markdown",
   "id": "2c026141",
   "metadata": {},
   "source": [
    "## Hasnain Sikora 19BAI1072"
   ]
  },
  {
   "cell_type": "markdown",
   "id": "6e5e6cfa",
   "metadata": {
    "papermill": {
     "duration": 0.041188,
     "end_time": "2022-03-20T09:19:11.308673",
     "exception": false,
     "start_time": "2022-03-20T09:19:11.267485",
     "status": "completed"
    },
    "tags": []
   },
   "source": [
    "### Determining the most optimal algorithm to train a machine learning based intrusion detection system\n",
    "\n",
    "Performed the Machine Learning workflow which included the following steps:\n"
   ]
  },
  {
   "cell_type": "markdown",
   "id": "adf86197",
   "metadata": {
    "papermill": {
     "duration": 0.041036,
     "end_time": "2022-03-20T09:19:11.391122",
     "exception": false,
     "start_time": "2022-03-20T09:19:11.350086",
     "status": "completed"
    },
    "tags": []
   },
   "source": [
    "## Importing the Libraries"
   ]
  },
  {
   "cell_type": "code",
   "execution_count": 1,
   "id": "976125c4",
   "metadata": {
    "execution": {
     "iopub.execute_input": "2022-03-20T09:19:11.478069Z",
     "iopub.status.busy": "2022-03-20T09:19:11.477071Z",
     "iopub.status.idle": "2022-03-20T09:19:12.414959Z",
     "shell.execute_reply": "2022-03-20T09:19:12.414305Z",
     "shell.execute_reply.started": "2022-03-20T08:24:06.587913Z"
    },
    "papermill": {
     "duration": 0.982837,
     "end_time": "2022-03-20T09:19:12.415158",
     "exception": false,
     "start_time": "2022-03-20T09:19:11.432321",
     "status": "completed"
    },
    "tags": []
   },
   "outputs": [],
   "source": [
    "import numpy as np\n",
    "import matplotlib.pyplot as plt\n",
    "import pandas as pd \n",
    "import seaborn as sns\n",
    "%matplotlib inline"
   ]
  },
  {
   "cell_type": "markdown",
   "id": "3c7559e2",
   "metadata": {
    "papermill": {
     "duration": 0.041759,
     "end_time": "2022-03-20T09:19:12.499776",
     "exception": false,
     "start_time": "2022-03-20T09:19:12.458017",
     "status": "completed"
    },
    "tags": []
   },
   "source": [
    "## Importing the Dataset"
   ]
  },
  {
   "cell_type": "markdown",
   "id": "04d0397f",
   "metadata": {},
   "source": [
    "* In this step we select and discover the data that was processed and will be used to train our machine learning model.\n",
    "* The source of the dataset used is from Kaggle. It is a huge repository of community published data.\n",
    "\n",
    "* The dataset consists of a wide variety of intrusions simulated in a military network environment. It has 25192 rows & 42 columns.\n",
    "* Just after loading the data, the data was split into 7:3 training and testing data to prevent data leakage."
   ]
  },
  {
   "cell_type": "code",
   "execution_count": 2,
   "id": "368a00aa",
   "metadata": {
    "execution": {
     "iopub.execute_input": "2022-03-20T09:19:12.589218Z",
     "iopub.status.busy": "2022-03-20T09:19:12.588510Z",
     "iopub.status.idle": "2022-03-20T09:19:12.782670Z",
     "shell.execute_reply": "2022-03-20T09:19:12.783199Z",
     "shell.execute_reply.started": "2022-03-20T08:24:06.600831Z"
    },
    "papermill": {
     "duration": 0.24172,
     "end_time": "2022-03-20T09:19:12.783386",
     "exception": false,
     "start_time": "2022-03-20T09:19:12.541666",
     "status": "completed"
    },
    "tags": []
   },
   "outputs": [
    {
     "name": "stdout",
     "output_type": "stream",
     "text": [
      "Training data has 25192 rows & 42 columns\n"
     ]
    },
    {
     "data": {
      "text/html": [
       "<div>\n",
       "<style scoped>\n",
       "    .dataframe tbody tr th:only-of-type {\n",
       "        vertical-align: middle;\n",
       "    }\n",
       "\n",
       "    .dataframe tbody tr th {\n",
       "        vertical-align: top;\n",
       "    }\n",
       "\n",
       "    .dataframe thead th {\n",
       "        text-align: right;\n",
       "    }\n",
       "</style>\n",
       "<table border=\"1\" class=\"dataframe\">\n",
       "  <thead>\n",
       "    <tr style=\"text-align: right;\">\n",
       "      <th></th>\n",
       "      <th>duration</th>\n",
       "      <th>protocol_type</th>\n",
       "      <th>service</th>\n",
       "      <th>flag</th>\n",
       "      <th>src_bytes</th>\n",
       "      <th>dst_bytes</th>\n",
       "      <th>land</th>\n",
       "      <th>wrong_fragment</th>\n",
       "      <th>urgent</th>\n",
       "      <th>hot</th>\n",
       "      <th>...</th>\n",
       "      <th>dst_host_srv_count</th>\n",
       "      <th>dst_host_same_srv_rate</th>\n",
       "      <th>dst_host_diff_srv_rate</th>\n",
       "      <th>dst_host_same_src_port_rate</th>\n",
       "      <th>dst_host_srv_diff_host_rate</th>\n",
       "      <th>dst_host_serror_rate</th>\n",
       "      <th>dst_host_srv_serror_rate</th>\n",
       "      <th>dst_host_rerror_rate</th>\n",
       "      <th>dst_host_srv_rerror_rate</th>\n",
       "      <th>class</th>\n",
       "    </tr>\n",
       "  </thead>\n",
       "  <tbody>\n",
       "    <tr>\n",
       "      <th>0</th>\n",
       "      <td>0</td>\n",
       "      <td>tcp</td>\n",
       "      <td>ftp_data</td>\n",
       "      <td>SF</td>\n",
       "      <td>491</td>\n",
       "      <td>0</td>\n",
       "      <td>0</td>\n",
       "      <td>0</td>\n",
       "      <td>0</td>\n",
       "      <td>0</td>\n",
       "      <td>...</td>\n",
       "      <td>25</td>\n",
       "      <td>0.17</td>\n",
       "      <td>0.03</td>\n",
       "      <td>0.17</td>\n",
       "      <td>0.00</td>\n",
       "      <td>0.00</td>\n",
       "      <td>0.00</td>\n",
       "      <td>0.05</td>\n",
       "      <td>0.00</td>\n",
       "      <td>normal</td>\n",
       "    </tr>\n",
       "    <tr>\n",
       "      <th>1</th>\n",
       "      <td>0</td>\n",
       "      <td>udp</td>\n",
       "      <td>other</td>\n",
       "      <td>SF</td>\n",
       "      <td>146</td>\n",
       "      <td>0</td>\n",
       "      <td>0</td>\n",
       "      <td>0</td>\n",
       "      <td>0</td>\n",
       "      <td>0</td>\n",
       "      <td>...</td>\n",
       "      <td>1</td>\n",
       "      <td>0.00</td>\n",
       "      <td>0.60</td>\n",
       "      <td>0.88</td>\n",
       "      <td>0.00</td>\n",
       "      <td>0.00</td>\n",
       "      <td>0.00</td>\n",
       "      <td>0.00</td>\n",
       "      <td>0.00</td>\n",
       "      <td>normal</td>\n",
       "    </tr>\n",
       "    <tr>\n",
       "      <th>2</th>\n",
       "      <td>0</td>\n",
       "      <td>tcp</td>\n",
       "      <td>private</td>\n",
       "      <td>S0</td>\n",
       "      <td>0</td>\n",
       "      <td>0</td>\n",
       "      <td>0</td>\n",
       "      <td>0</td>\n",
       "      <td>0</td>\n",
       "      <td>0</td>\n",
       "      <td>...</td>\n",
       "      <td>26</td>\n",
       "      <td>0.10</td>\n",
       "      <td>0.05</td>\n",
       "      <td>0.00</td>\n",
       "      <td>0.00</td>\n",
       "      <td>1.00</td>\n",
       "      <td>1.00</td>\n",
       "      <td>0.00</td>\n",
       "      <td>0.00</td>\n",
       "      <td>anomaly</td>\n",
       "    </tr>\n",
       "    <tr>\n",
       "      <th>3</th>\n",
       "      <td>0</td>\n",
       "      <td>tcp</td>\n",
       "      <td>http</td>\n",
       "      <td>SF</td>\n",
       "      <td>232</td>\n",
       "      <td>8153</td>\n",
       "      <td>0</td>\n",
       "      <td>0</td>\n",
       "      <td>0</td>\n",
       "      <td>0</td>\n",
       "      <td>...</td>\n",
       "      <td>255</td>\n",
       "      <td>1.00</td>\n",
       "      <td>0.00</td>\n",
       "      <td>0.03</td>\n",
       "      <td>0.04</td>\n",
       "      <td>0.03</td>\n",
       "      <td>0.01</td>\n",
       "      <td>0.00</td>\n",
       "      <td>0.01</td>\n",
       "      <td>normal</td>\n",
       "    </tr>\n",
       "    <tr>\n",
       "      <th>4</th>\n",
       "      <td>0</td>\n",
       "      <td>tcp</td>\n",
       "      <td>http</td>\n",
       "      <td>SF</td>\n",
       "      <td>199</td>\n",
       "      <td>420</td>\n",
       "      <td>0</td>\n",
       "      <td>0</td>\n",
       "      <td>0</td>\n",
       "      <td>0</td>\n",
       "      <td>...</td>\n",
       "      <td>255</td>\n",
       "      <td>1.00</td>\n",
       "      <td>0.00</td>\n",
       "      <td>0.00</td>\n",
       "      <td>0.00</td>\n",
       "      <td>0.00</td>\n",
       "      <td>0.00</td>\n",
       "      <td>0.00</td>\n",
       "      <td>0.00</td>\n",
       "      <td>normal</td>\n",
       "    </tr>\n",
       "  </tbody>\n",
       "</table>\n",
       "<p>5 rows × 42 columns</p>\n",
       "</div>"
      ],
      "text/plain": [
       "   duration protocol_type   service flag  src_bytes  dst_bytes  land  \\\n",
       "0         0           tcp  ftp_data   SF        491          0     0   \n",
       "1         0           udp     other   SF        146          0     0   \n",
       "2         0           tcp   private   S0          0          0     0   \n",
       "3         0           tcp      http   SF        232       8153     0   \n",
       "4         0           tcp      http   SF        199        420     0   \n",
       "\n",
       "   wrong_fragment  urgent  hot  ...  dst_host_srv_count  \\\n",
       "0               0       0    0  ...                  25   \n",
       "1               0       0    0  ...                   1   \n",
       "2               0       0    0  ...                  26   \n",
       "3               0       0    0  ...                 255   \n",
       "4               0       0    0  ...                 255   \n",
       "\n",
       "   dst_host_same_srv_rate  dst_host_diff_srv_rate  \\\n",
       "0                    0.17                    0.03   \n",
       "1                    0.00                    0.60   \n",
       "2                    0.10                    0.05   \n",
       "3                    1.00                    0.00   \n",
       "4                    1.00                    0.00   \n",
       "\n",
       "   dst_host_same_src_port_rate  dst_host_srv_diff_host_rate  \\\n",
       "0                         0.17                         0.00   \n",
       "1                         0.88                         0.00   \n",
       "2                         0.00                         0.00   \n",
       "3                         0.03                         0.04   \n",
       "4                         0.00                         0.00   \n",
       "\n",
       "   dst_host_serror_rate  dst_host_srv_serror_rate  dst_host_rerror_rate  \\\n",
       "0                  0.00                      0.00                  0.05   \n",
       "1                  0.00                      0.00                  0.00   \n",
       "2                  1.00                      1.00                  0.00   \n",
       "3                  0.03                      0.01                  0.00   \n",
       "4                  0.00                      0.00                  0.00   \n",
       "\n",
       "   dst_host_srv_rerror_rate    class  \n",
       "0                      0.00   normal  \n",
       "1                      0.00   normal  \n",
       "2                      0.00  anomaly  \n",
       "3                      0.01   normal  \n",
       "4                      0.00   normal  \n",
       "\n",
       "[5 rows x 42 columns]"
      ]
     },
     "execution_count": 2,
     "metadata": {},
     "output_type": "execute_result"
    }
   ],
   "source": [
    "dataset = pd.read_csv(\"Dataset/Train_data.csv\")\n",
    "print(\"Training data has {} rows & {} columns\".format(dataset.shape[0],dataset.shape[1]))\n",
    "dataset.head()"
   ]
  },
  {
   "cell_type": "code",
   "execution_count": 3,
   "id": "abe09919",
   "metadata": {
    "execution": {
     "iopub.execute_input": "2022-03-20T09:19:12.880904Z",
     "iopub.status.busy": "2022-03-20T09:19:12.880213Z",
     "iopub.status.idle": "2022-03-20T09:19:12.904393Z",
     "shell.execute_reply": "2022-03-20T09:19:12.904878Z",
     "shell.execute_reply.started": "2022-03-20T08:24:06.747552Z"
    },
    "papermill": {
     "duration": 0.077458,
     "end_time": "2022-03-20T09:19:12.905087",
     "exception": false,
     "start_time": "2022-03-20T09:19:12.827629",
     "status": "completed"
    },
    "tags": []
   },
   "outputs": [
    {
     "data": {
      "text/html": [
       "<div>\n",
       "<style scoped>\n",
       "    .dataframe tbody tr th:only-of-type {\n",
       "        vertical-align: middle;\n",
       "    }\n",
       "\n",
       "    .dataframe tbody tr th {\n",
       "        vertical-align: top;\n",
       "    }\n",
       "\n",
       "    .dataframe thead th {\n",
       "        text-align: right;\n",
       "    }\n",
       "</style>\n",
       "<table border=\"1\" class=\"dataframe\">\n",
       "  <thead>\n",
       "    <tr style=\"text-align: right;\">\n",
       "      <th></th>\n",
       "      <th>duration</th>\n",
       "      <th>protocol_type</th>\n",
       "      <th>service</th>\n",
       "      <th>flag</th>\n",
       "      <th>src_bytes</th>\n",
       "      <th>dst_bytes</th>\n",
       "      <th>land</th>\n",
       "      <th>wrong_fragment</th>\n",
       "      <th>urgent</th>\n",
       "      <th>hot</th>\n",
       "      <th>...</th>\n",
       "      <th>dst_host_count</th>\n",
       "      <th>dst_host_srv_count</th>\n",
       "      <th>dst_host_same_srv_rate</th>\n",
       "      <th>dst_host_diff_srv_rate</th>\n",
       "      <th>dst_host_same_src_port_rate</th>\n",
       "      <th>dst_host_srv_diff_host_rate</th>\n",
       "      <th>dst_host_serror_rate</th>\n",
       "      <th>dst_host_srv_serror_rate</th>\n",
       "      <th>dst_host_rerror_rate</th>\n",
       "      <th>dst_host_srv_rerror_rate</th>\n",
       "    </tr>\n",
       "  </thead>\n",
       "  <tbody>\n",
       "    <tr>\n",
       "      <th>0</th>\n",
       "      <td>0</td>\n",
       "      <td>tcp</td>\n",
       "      <td>ftp_data</td>\n",
       "      <td>SF</td>\n",
       "      <td>491</td>\n",
       "      <td>0</td>\n",
       "      <td>0</td>\n",
       "      <td>0</td>\n",
       "      <td>0</td>\n",
       "      <td>0</td>\n",
       "      <td>...</td>\n",
       "      <td>150</td>\n",
       "      <td>25</td>\n",
       "      <td>0.17</td>\n",
       "      <td>0.03</td>\n",
       "      <td>0.17</td>\n",
       "      <td>0.00</td>\n",
       "      <td>0.00</td>\n",
       "      <td>0.00</td>\n",
       "      <td>0.05</td>\n",
       "      <td>0.00</td>\n",
       "    </tr>\n",
       "    <tr>\n",
       "      <th>1</th>\n",
       "      <td>0</td>\n",
       "      <td>udp</td>\n",
       "      <td>other</td>\n",
       "      <td>SF</td>\n",
       "      <td>146</td>\n",
       "      <td>0</td>\n",
       "      <td>0</td>\n",
       "      <td>0</td>\n",
       "      <td>0</td>\n",
       "      <td>0</td>\n",
       "      <td>...</td>\n",
       "      <td>255</td>\n",
       "      <td>1</td>\n",
       "      <td>0.00</td>\n",
       "      <td>0.60</td>\n",
       "      <td>0.88</td>\n",
       "      <td>0.00</td>\n",
       "      <td>0.00</td>\n",
       "      <td>0.00</td>\n",
       "      <td>0.00</td>\n",
       "      <td>0.00</td>\n",
       "    </tr>\n",
       "    <tr>\n",
       "      <th>2</th>\n",
       "      <td>0</td>\n",
       "      <td>tcp</td>\n",
       "      <td>private</td>\n",
       "      <td>S0</td>\n",
       "      <td>0</td>\n",
       "      <td>0</td>\n",
       "      <td>0</td>\n",
       "      <td>0</td>\n",
       "      <td>0</td>\n",
       "      <td>0</td>\n",
       "      <td>...</td>\n",
       "      <td>255</td>\n",
       "      <td>26</td>\n",
       "      <td>0.10</td>\n",
       "      <td>0.05</td>\n",
       "      <td>0.00</td>\n",
       "      <td>0.00</td>\n",
       "      <td>1.00</td>\n",
       "      <td>1.00</td>\n",
       "      <td>0.00</td>\n",
       "      <td>0.00</td>\n",
       "    </tr>\n",
       "    <tr>\n",
       "      <th>3</th>\n",
       "      <td>0</td>\n",
       "      <td>tcp</td>\n",
       "      <td>http</td>\n",
       "      <td>SF</td>\n",
       "      <td>232</td>\n",
       "      <td>8153</td>\n",
       "      <td>0</td>\n",
       "      <td>0</td>\n",
       "      <td>0</td>\n",
       "      <td>0</td>\n",
       "      <td>...</td>\n",
       "      <td>30</td>\n",
       "      <td>255</td>\n",
       "      <td>1.00</td>\n",
       "      <td>0.00</td>\n",
       "      <td>0.03</td>\n",
       "      <td>0.04</td>\n",
       "      <td>0.03</td>\n",
       "      <td>0.01</td>\n",
       "      <td>0.00</td>\n",
       "      <td>0.01</td>\n",
       "    </tr>\n",
       "    <tr>\n",
       "      <th>4</th>\n",
       "      <td>0</td>\n",
       "      <td>tcp</td>\n",
       "      <td>http</td>\n",
       "      <td>SF</td>\n",
       "      <td>199</td>\n",
       "      <td>420</td>\n",
       "      <td>0</td>\n",
       "      <td>0</td>\n",
       "      <td>0</td>\n",
       "      <td>0</td>\n",
       "      <td>...</td>\n",
       "      <td>255</td>\n",
       "      <td>255</td>\n",
       "      <td>1.00</td>\n",
       "      <td>0.00</td>\n",
       "      <td>0.00</td>\n",
       "      <td>0.00</td>\n",
       "      <td>0.00</td>\n",
       "      <td>0.00</td>\n",
       "      <td>0.00</td>\n",
       "      <td>0.00</td>\n",
       "    </tr>\n",
       "  </tbody>\n",
       "</table>\n",
       "<p>5 rows × 41 columns</p>\n",
       "</div>"
      ],
      "text/plain": [
       "   duration protocol_type   service flag  src_bytes  dst_bytes  land  \\\n",
       "0         0           tcp  ftp_data   SF        491          0     0   \n",
       "1         0           udp     other   SF        146          0     0   \n",
       "2         0           tcp   private   S0          0          0     0   \n",
       "3         0           tcp      http   SF        232       8153     0   \n",
       "4         0           tcp      http   SF        199        420     0   \n",
       "\n",
       "   wrong_fragment  urgent  hot  ...  dst_host_count  dst_host_srv_count  \\\n",
       "0               0       0    0  ...             150                  25   \n",
       "1               0       0    0  ...             255                   1   \n",
       "2               0       0    0  ...             255                  26   \n",
       "3               0       0    0  ...              30                 255   \n",
       "4               0       0    0  ...             255                 255   \n",
       "\n",
       "   dst_host_same_srv_rate  dst_host_diff_srv_rate  \\\n",
       "0                    0.17                    0.03   \n",
       "1                    0.00                    0.60   \n",
       "2                    0.10                    0.05   \n",
       "3                    1.00                    0.00   \n",
       "4                    1.00                    0.00   \n",
       "\n",
       "   dst_host_same_src_port_rate  dst_host_srv_diff_host_rate  \\\n",
       "0                         0.17                         0.00   \n",
       "1                         0.88                         0.00   \n",
       "2                         0.00                         0.00   \n",
       "3                         0.03                         0.04   \n",
       "4                         0.00                         0.00   \n",
       "\n",
       "   dst_host_serror_rate  dst_host_srv_serror_rate  dst_host_rerror_rate  \\\n",
       "0                  0.00                      0.00                  0.05   \n",
       "1                  0.00                      0.00                  0.00   \n",
       "2                  1.00                      1.00                  0.00   \n",
       "3                  0.03                      0.01                  0.00   \n",
       "4                  0.00                      0.00                  0.00   \n",
       "\n",
       "   dst_host_srv_rerror_rate  \n",
       "0                      0.00  \n",
       "1                      0.00  \n",
       "2                      0.00  \n",
       "3                      0.01  \n",
       "4                      0.00  \n",
       "\n",
       "[5 rows x 41 columns]"
      ]
     },
     "execution_count": 3,
     "metadata": {},
     "output_type": "execute_result"
    }
   ],
   "source": [
    "X = dataset.drop(\"class\", axis=1)\n",
    "Y = dataset[\"class\"]\n",
    "X.head()"
   ]
  },
  {
   "cell_type": "markdown",
   "id": "0d534491",
   "metadata": {},
   "source": [
    "### Exploratory Data Analysis\n",
    "\n",
    "* This step focuses on performing a critical analysis of our dataset with an aim to find any discrepancies, interesting patterns, coorrelation in data, etc. \n",
    "* After completing our analysis in each step, we perform some standard data preprocessing techniques to make our process easier\n",
    "* This is evidently one of the most time consuming steps of the project.\n",
    "* This process will involve methods like: \n",
    "    * Data cleaning - handling missing values by mean imputation, etc.\n",
    "    * Data Scaling and Normalisation - Scaling or Normalisation is common preprocessing technique used in machine learning where the data is ususally normalised to a scale of 0 to 1.\n",
    "    * Data Encoding - Most of the models cannot process strings/objects. So the data needs to be transformed to numerical data. This process is known as data encoding(also data transformation).\n",
    "    * Feature Selection - Removing redundant features or selecting the most \"useful\" features. We used recursive feature elimination for feature selection."
   ]
  },
  {
   "cell_type": "code",
   "execution_count": 4,
   "id": "1a191e66",
   "metadata": {
    "execution": {
     "iopub.execute_input": "2022-03-20T09:19:12.995643Z",
     "iopub.status.busy": "2022-03-20T09:19:12.994989Z",
     "iopub.status.idle": "2022-03-20T09:19:13.017622Z",
     "shell.execute_reply": "2022-03-20T09:19:13.018121Z",
     "shell.execute_reply.started": "2022-03-20T08:24:06.78185Z"
    },
    "papermill": {
     "duration": 0.069577,
     "end_time": "2022-03-20T09:19:13.018307",
     "exception": false,
     "start_time": "2022-03-20T09:19:12.948730",
     "status": "completed"
    },
    "tags": []
   },
   "outputs": [
    {
     "data": {
      "text/html": [
       "<div>\n",
       "<style scoped>\n",
       "    .dataframe tbody tr th:only-of-type {\n",
       "        vertical-align: middle;\n",
       "    }\n",
       "\n",
       "    .dataframe tbody tr th {\n",
       "        vertical-align: top;\n",
       "    }\n",
       "\n",
       "    .dataframe thead th {\n",
       "        text-align: right;\n",
       "    }\n",
       "</style>\n",
       "<table border=\"1\" class=\"dataframe\">\n",
       "  <thead>\n",
       "    <tr style=\"text-align: right;\">\n",
       "      <th></th>\n",
       "      <th>duration</th>\n",
       "      <th>protocol_type</th>\n",
       "      <th>service</th>\n",
       "      <th>flag</th>\n",
       "      <th>src_bytes</th>\n",
       "      <th>dst_bytes</th>\n",
       "      <th>land</th>\n",
       "      <th>wrong_fragment</th>\n",
       "      <th>urgent</th>\n",
       "      <th>hot</th>\n",
       "      <th>...</th>\n",
       "      <th>dst_host_count</th>\n",
       "      <th>dst_host_srv_count</th>\n",
       "      <th>dst_host_same_srv_rate</th>\n",
       "      <th>dst_host_diff_srv_rate</th>\n",
       "      <th>dst_host_same_src_port_rate</th>\n",
       "      <th>dst_host_srv_diff_host_rate</th>\n",
       "      <th>dst_host_serror_rate</th>\n",
       "      <th>dst_host_srv_serror_rate</th>\n",
       "      <th>dst_host_rerror_rate</th>\n",
       "      <th>dst_host_srv_rerror_rate</th>\n",
       "    </tr>\n",
       "  </thead>\n",
       "  <tbody>\n",
       "    <tr>\n",
       "      <th>0</th>\n",
       "      <td>0</td>\n",
       "      <td>tcp</td>\n",
       "      <td>ftp_data</td>\n",
       "      <td>SF</td>\n",
       "      <td>491</td>\n",
       "      <td>0</td>\n",
       "      <td>0</td>\n",
       "      <td>0</td>\n",
       "      <td>0</td>\n",
       "      <td>0</td>\n",
       "      <td>...</td>\n",
       "      <td>150</td>\n",
       "      <td>25</td>\n",
       "      <td>0.17</td>\n",
       "      <td>0.03</td>\n",
       "      <td>0.17</td>\n",
       "      <td>0.00</td>\n",
       "      <td>0.00</td>\n",
       "      <td>0.00</td>\n",
       "      <td>0.05</td>\n",
       "      <td>0.00</td>\n",
       "    </tr>\n",
       "    <tr>\n",
       "      <th>1</th>\n",
       "      <td>0</td>\n",
       "      <td>udp</td>\n",
       "      <td>other</td>\n",
       "      <td>SF</td>\n",
       "      <td>146</td>\n",
       "      <td>0</td>\n",
       "      <td>0</td>\n",
       "      <td>0</td>\n",
       "      <td>0</td>\n",
       "      <td>0</td>\n",
       "      <td>...</td>\n",
       "      <td>255</td>\n",
       "      <td>1</td>\n",
       "      <td>0.00</td>\n",
       "      <td>0.60</td>\n",
       "      <td>0.88</td>\n",
       "      <td>0.00</td>\n",
       "      <td>0.00</td>\n",
       "      <td>0.00</td>\n",
       "      <td>0.00</td>\n",
       "      <td>0.00</td>\n",
       "    </tr>\n",
       "    <tr>\n",
       "      <th>2</th>\n",
       "      <td>0</td>\n",
       "      <td>tcp</td>\n",
       "      <td>private</td>\n",
       "      <td>S0</td>\n",
       "      <td>0</td>\n",
       "      <td>0</td>\n",
       "      <td>0</td>\n",
       "      <td>0</td>\n",
       "      <td>0</td>\n",
       "      <td>0</td>\n",
       "      <td>...</td>\n",
       "      <td>255</td>\n",
       "      <td>26</td>\n",
       "      <td>0.10</td>\n",
       "      <td>0.05</td>\n",
       "      <td>0.00</td>\n",
       "      <td>0.00</td>\n",
       "      <td>1.00</td>\n",
       "      <td>1.00</td>\n",
       "      <td>0.00</td>\n",
       "      <td>0.00</td>\n",
       "    </tr>\n",
       "    <tr>\n",
       "      <th>3</th>\n",
       "      <td>0</td>\n",
       "      <td>tcp</td>\n",
       "      <td>http</td>\n",
       "      <td>SF</td>\n",
       "      <td>232</td>\n",
       "      <td>8153</td>\n",
       "      <td>0</td>\n",
       "      <td>0</td>\n",
       "      <td>0</td>\n",
       "      <td>0</td>\n",
       "      <td>...</td>\n",
       "      <td>30</td>\n",
       "      <td>255</td>\n",
       "      <td>1.00</td>\n",
       "      <td>0.00</td>\n",
       "      <td>0.03</td>\n",
       "      <td>0.04</td>\n",
       "      <td>0.03</td>\n",
       "      <td>0.01</td>\n",
       "      <td>0.00</td>\n",
       "      <td>0.01</td>\n",
       "    </tr>\n",
       "    <tr>\n",
       "      <th>4</th>\n",
       "      <td>0</td>\n",
       "      <td>tcp</td>\n",
       "      <td>http</td>\n",
       "      <td>SF</td>\n",
       "      <td>199</td>\n",
       "      <td>420</td>\n",
       "      <td>0</td>\n",
       "      <td>0</td>\n",
       "      <td>0</td>\n",
       "      <td>0</td>\n",
       "      <td>...</td>\n",
       "      <td>255</td>\n",
       "      <td>255</td>\n",
       "      <td>1.00</td>\n",
       "      <td>0.00</td>\n",
       "      <td>0.00</td>\n",
       "      <td>0.00</td>\n",
       "      <td>0.00</td>\n",
       "      <td>0.00</td>\n",
       "      <td>0.00</td>\n",
       "      <td>0.00</td>\n",
       "    </tr>\n",
       "  </tbody>\n",
       "</table>\n",
       "<p>5 rows × 41 columns</p>\n",
       "</div>"
      ],
      "text/plain": [
       "   duration protocol_type   service flag  src_bytes  dst_bytes  land  \\\n",
       "0         0           tcp  ftp_data   SF        491          0     0   \n",
       "1         0           udp     other   SF        146          0     0   \n",
       "2         0           tcp   private   S0          0          0     0   \n",
       "3         0           tcp      http   SF        232       8153     0   \n",
       "4         0           tcp      http   SF        199        420     0   \n",
       "\n",
       "   wrong_fragment  urgent  hot  ...  dst_host_count  dst_host_srv_count  \\\n",
       "0               0       0    0  ...             150                  25   \n",
       "1               0       0    0  ...             255                   1   \n",
       "2               0       0    0  ...             255                  26   \n",
       "3               0       0    0  ...              30                 255   \n",
       "4               0       0    0  ...             255                 255   \n",
       "\n",
       "   dst_host_same_srv_rate  dst_host_diff_srv_rate  \\\n",
       "0                    0.17                    0.03   \n",
       "1                    0.00                    0.60   \n",
       "2                    0.10                    0.05   \n",
       "3                    1.00                    0.00   \n",
       "4                    1.00                    0.00   \n",
       "\n",
       "   dst_host_same_src_port_rate  dst_host_srv_diff_host_rate  \\\n",
       "0                         0.17                         0.00   \n",
       "1                         0.88                         0.00   \n",
       "2                         0.00                         0.00   \n",
       "3                         0.03                         0.04   \n",
       "4                         0.00                         0.00   \n",
       "\n",
       "   dst_host_serror_rate  dst_host_srv_serror_rate  dst_host_rerror_rate  \\\n",
       "0                  0.00                      0.00                  0.05   \n",
       "1                  0.00                      0.00                  0.00   \n",
       "2                  1.00                      1.00                  0.00   \n",
       "3                  0.03                      0.01                  0.00   \n",
       "4                  0.00                      0.00                  0.00   \n",
       "\n",
       "   dst_host_srv_rerror_rate  \n",
       "0                      0.00  \n",
       "1                      0.00  \n",
       "2                      0.00  \n",
       "3                      0.01  \n",
       "4                      0.00  \n",
       "\n",
       "[5 rows x 41 columns]"
      ]
     },
     "execution_count": 4,
     "metadata": {},
     "output_type": "execute_result"
    }
   ],
   "source": [
    "X.head()"
   ]
  },
  {
   "cell_type": "markdown",
   "id": "f3baed0f",
   "metadata": {
    "papermill": {
     "duration": 0.044291,
     "end_time": "2022-03-20T09:19:13.107008",
     "exception": false,
     "start_time": "2022-03-20T09:19:13.062717",
     "status": "completed"
    },
    "tags": []
   },
   "source": [
    "<!-- * We identified various features with binary values and a few with redundancy.\n",
    "* A few features have object data type that need to be encoded into numerical values.\n",
    "* Also, few features have high scale difference and need to normalised. -->"
   ]
  },
  {
   "cell_type": "code",
   "execution_count": 5,
   "id": "cea15956",
   "metadata": {
    "execution": {
     "iopub.execute_input": "2022-03-20T09:19:13.199177Z",
     "iopub.status.busy": "2022-03-20T09:19:13.198551Z",
     "iopub.status.idle": "2022-03-20T09:19:13.205906Z",
     "shell.execute_reply": "2022-03-20T09:19:13.206614Z",
     "shell.execute_reply.started": "2022-03-20T08:24:06.815968Z"
    },
    "papermill": {
     "duration": 0.055043,
     "end_time": "2022-03-20T09:19:13.206837",
     "exception": false,
     "start_time": "2022-03-20T09:19:13.151794",
     "status": "completed"
    },
    "tags": []
   },
   "outputs": [
    {
     "name": "stdout",
     "output_type": "stream",
     "text": [
      "0    25192\n",
      "Name: is_host_login, dtype: int64\n"
     ]
    }
   ],
   "source": [
    "print(X['is_host_login'].value_counts())"
   ]
  },
  {
   "cell_type": "code",
   "execution_count": 6,
   "id": "19fb2406",
   "metadata": {
    "execution": {
     "iopub.execute_input": "2022-03-20T09:19:13.301108Z",
     "iopub.status.busy": "2022-03-20T09:19:13.300414Z",
     "iopub.status.idle": "2022-03-20T09:19:13.306292Z",
     "shell.execute_reply": "2022-03-20T09:19:13.306917Z",
     "shell.execute_reply.started": "2022-03-20T08:24:06.824805Z"
    },
    "papermill": {
     "duration": 0.054681,
     "end_time": "2022-03-20T09:19:13.307110",
     "exception": false,
     "start_time": "2022-03-20T09:19:13.252429",
     "status": "completed"
    },
    "tags": []
   },
   "outputs": [
    {
     "name": "stdout",
     "output_type": "stream",
     "text": [
      "0    25192\n",
      "Name: num_outbound_cmds, dtype: int64\n"
     ]
    }
   ],
   "source": [
    "print(X['num_outbound_cmds'].value_counts())"
   ]
  },
  {
   "cell_type": "markdown",
   "id": "c19cb506",
   "metadata": {
    "papermill": {
     "duration": 0.046216,
     "end_time": "2022-03-20T09:19:13.398354",
     "exception": false,
     "start_time": "2022-03-20T09:19:13.352138",
     "status": "completed"
    },
    "tags": []
   },
   "source": [
    "The 'is_host_login' and 'num_outbound_cmds' attributes have only one unique value i.e., 0. This introduces redundancy, as they clearly do not hold any differentiating power when it comes to building or model. We can drop such attributes and reduce the size of the data and hence improve the training process."
   ]
  },
  {
   "cell_type": "code",
   "execution_count": 7,
   "id": "060970d2",
   "metadata": {
    "execution": {
     "iopub.execute_input": "2022-03-20T09:19:13.493392Z",
     "iopub.status.busy": "2022-03-20T09:19:13.492433Z",
     "iopub.status.idle": "2022-03-20T09:19:13.522598Z",
     "shell.execute_reply": "2022-03-20T09:19:13.523167Z",
     "shell.execute_reply.started": "2022-03-20T08:24:06.989991Z"
    },
    "papermill": {
     "duration": 0.080323,
     "end_time": "2022-03-20T09:19:13.523341",
     "exception": false,
     "start_time": "2022-03-20T09:19:13.443018",
     "status": "completed"
    },
    "tags": []
   },
   "outputs": [
    {
     "data": {
      "text/html": [
       "<div>\n",
       "<style scoped>\n",
       "    .dataframe tbody tr th:only-of-type {\n",
       "        vertical-align: middle;\n",
       "    }\n",
       "\n",
       "    .dataframe tbody tr th {\n",
       "        vertical-align: top;\n",
       "    }\n",
       "\n",
       "    .dataframe thead th {\n",
       "        text-align: right;\n",
       "    }\n",
       "</style>\n",
       "<table border=\"1\" class=\"dataframe\">\n",
       "  <thead>\n",
       "    <tr style=\"text-align: right;\">\n",
       "      <th></th>\n",
       "      <th>duration</th>\n",
       "      <th>protocol_type</th>\n",
       "      <th>service</th>\n",
       "      <th>flag</th>\n",
       "      <th>src_bytes</th>\n",
       "      <th>dst_bytes</th>\n",
       "      <th>land</th>\n",
       "      <th>wrong_fragment</th>\n",
       "      <th>urgent</th>\n",
       "      <th>hot</th>\n",
       "      <th>...</th>\n",
       "      <th>dst_host_count</th>\n",
       "      <th>dst_host_srv_count</th>\n",
       "      <th>dst_host_same_srv_rate</th>\n",
       "      <th>dst_host_diff_srv_rate</th>\n",
       "      <th>dst_host_same_src_port_rate</th>\n",
       "      <th>dst_host_srv_diff_host_rate</th>\n",
       "      <th>dst_host_serror_rate</th>\n",
       "      <th>dst_host_srv_serror_rate</th>\n",
       "      <th>dst_host_rerror_rate</th>\n",
       "      <th>dst_host_srv_rerror_rate</th>\n",
       "    </tr>\n",
       "  </thead>\n",
       "  <tbody>\n",
       "    <tr>\n",
       "      <th>0</th>\n",
       "      <td>0</td>\n",
       "      <td>tcp</td>\n",
       "      <td>ftp_data</td>\n",
       "      <td>SF</td>\n",
       "      <td>491</td>\n",
       "      <td>0</td>\n",
       "      <td>0</td>\n",
       "      <td>0</td>\n",
       "      <td>0</td>\n",
       "      <td>0</td>\n",
       "      <td>...</td>\n",
       "      <td>150</td>\n",
       "      <td>25</td>\n",
       "      <td>0.17</td>\n",
       "      <td>0.03</td>\n",
       "      <td>0.17</td>\n",
       "      <td>0.00</td>\n",
       "      <td>0.00</td>\n",
       "      <td>0.00</td>\n",
       "      <td>0.05</td>\n",
       "      <td>0.00</td>\n",
       "    </tr>\n",
       "    <tr>\n",
       "      <th>1</th>\n",
       "      <td>0</td>\n",
       "      <td>udp</td>\n",
       "      <td>other</td>\n",
       "      <td>SF</td>\n",
       "      <td>146</td>\n",
       "      <td>0</td>\n",
       "      <td>0</td>\n",
       "      <td>0</td>\n",
       "      <td>0</td>\n",
       "      <td>0</td>\n",
       "      <td>...</td>\n",
       "      <td>255</td>\n",
       "      <td>1</td>\n",
       "      <td>0.00</td>\n",
       "      <td>0.60</td>\n",
       "      <td>0.88</td>\n",
       "      <td>0.00</td>\n",
       "      <td>0.00</td>\n",
       "      <td>0.00</td>\n",
       "      <td>0.00</td>\n",
       "      <td>0.00</td>\n",
       "    </tr>\n",
       "    <tr>\n",
       "      <th>2</th>\n",
       "      <td>0</td>\n",
       "      <td>tcp</td>\n",
       "      <td>private</td>\n",
       "      <td>S0</td>\n",
       "      <td>0</td>\n",
       "      <td>0</td>\n",
       "      <td>0</td>\n",
       "      <td>0</td>\n",
       "      <td>0</td>\n",
       "      <td>0</td>\n",
       "      <td>...</td>\n",
       "      <td>255</td>\n",
       "      <td>26</td>\n",
       "      <td>0.10</td>\n",
       "      <td>0.05</td>\n",
       "      <td>0.00</td>\n",
       "      <td>0.00</td>\n",
       "      <td>1.00</td>\n",
       "      <td>1.00</td>\n",
       "      <td>0.00</td>\n",
       "      <td>0.00</td>\n",
       "    </tr>\n",
       "    <tr>\n",
       "      <th>3</th>\n",
       "      <td>0</td>\n",
       "      <td>tcp</td>\n",
       "      <td>http</td>\n",
       "      <td>SF</td>\n",
       "      <td>232</td>\n",
       "      <td>8153</td>\n",
       "      <td>0</td>\n",
       "      <td>0</td>\n",
       "      <td>0</td>\n",
       "      <td>0</td>\n",
       "      <td>...</td>\n",
       "      <td>30</td>\n",
       "      <td>255</td>\n",
       "      <td>1.00</td>\n",
       "      <td>0.00</td>\n",
       "      <td>0.03</td>\n",
       "      <td>0.04</td>\n",
       "      <td>0.03</td>\n",
       "      <td>0.01</td>\n",
       "      <td>0.00</td>\n",
       "      <td>0.01</td>\n",
       "    </tr>\n",
       "    <tr>\n",
       "      <th>4</th>\n",
       "      <td>0</td>\n",
       "      <td>tcp</td>\n",
       "      <td>http</td>\n",
       "      <td>SF</td>\n",
       "      <td>199</td>\n",
       "      <td>420</td>\n",
       "      <td>0</td>\n",
       "      <td>0</td>\n",
       "      <td>0</td>\n",
       "      <td>0</td>\n",
       "      <td>...</td>\n",
       "      <td>255</td>\n",
       "      <td>255</td>\n",
       "      <td>1.00</td>\n",
       "      <td>0.00</td>\n",
       "      <td>0.00</td>\n",
       "      <td>0.00</td>\n",
       "      <td>0.00</td>\n",
       "      <td>0.00</td>\n",
       "      <td>0.00</td>\n",
       "      <td>0.00</td>\n",
       "    </tr>\n",
       "  </tbody>\n",
       "</table>\n",
       "<p>5 rows × 39 columns</p>\n",
       "</div>"
      ],
      "text/plain": [
       "   duration protocol_type   service flag  src_bytes  dst_bytes  land  \\\n",
       "0         0           tcp  ftp_data   SF        491          0     0   \n",
       "1         0           udp     other   SF        146          0     0   \n",
       "2         0           tcp   private   S0          0          0     0   \n",
       "3         0           tcp      http   SF        232       8153     0   \n",
       "4         0           tcp      http   SF        199        420     0   \n",
       "\n",
       "   wrong_fragment  urgent  hot  ...  dst_host_count  dst_host_srv_count  \\\n",
       "0               0       0    0  ...             150                  25   \n",
       "1               0       0    0  ...             255                   1   \n",
       "2               0       0    0  ...             255                  26   \n",
       "3               0       0    0  ...              30                 255   \n",
       "4               0       0    0  ...             255                 255   \n",
       "\n",
       "   dst_host_same_srv_rate  dst_host_diff_srv_rate  \\\n",
       "0                    0.17                    0.03   \n",
       "1                    0.00                    0.60   \n",
       "2                    0.10                    0.05   \n",
       "3                    1.00                    0.00   \n",
       "4                    1.00                    0.00   \n",
       "\n",
       "   dst_host_same_src_port_rate  dst_host_srv_diff_host_rate  \\\n",
       "0                         0.17                         0.00   \n",
       "1                         0.88                         0.00   \n",
       "2                         0.00                         0.00   \n",
       "3                         0.03                         0.04   \n",
       "4                         0.00                         0.00   \n",
       "\n",
       "   dst_host_serror_rate  dst_host_srv_serror_rate  dst_host_rerror_rate  \\\n",
       "0                  0.00                      0.00                  0.05   \n",
       "1                  0.00                      0.00                  0.00   \n",
       "2                  1.00                      1.00                  0.00   \n",
       "3                  0.03                      0.01                  0.00   \n",
       "4                  0.00                      0.00                  0.00   \n",
       "\n",
       "   dst_host_srv_rerror_rate  \n",
       "0                      0.00  \n",
       "1                      0.00  \n",
       "2                      0.00  \n",
       "3                      0.01  \n",
       "4                      0.00  \n",
       "\n",
       "[5 rows x 39 columns]"
      ]
     },
     "execution_count": 7,
     "metadata": {},
     "output_type": "execute_result"
    }
   ],
   "source": [
    "X.drop(['num_outbound_cmds','is_host_login'], axis=1, inplace=True)\n",
    "X.head()"
   ]
  },
  {
   "cell_type": "markdown",
   "id": "15c327fd",
   "metadata": {
    "papermill": {
     "duration": 0.046351,
     "end_time": "2022-03-20T09:19:13.615820",
     "exception": false,
     "start_time": "2022-03-20T09:19:13.569469",
     "status": "completed"
    },
    "tags": []
   },
   "source": [
    "### **Handling missing values**\n",
    "\n",
    "We will be using mean imputation to handle the missing values. This will be backboned by the SimpleImputer function from the sklearn package."
   ]
  },
  {
   "cell_type": "code",
   "execution_count": 8,
   "id": "d0257e6a",
   "metadata": {
    "execution": {
     "iopub.execute_input": "2022-03-20T09:19:13.710687Z",
     "iopub.status.busy": "2022-03-20T09:19:13.710002Z",
     "iopub.status.idle": "2022-03-20T09:19:14.083536Z",
     "shell.execute_reply": "2022-03-20T09:19:14.082919Z",
     "shell.execute_reply.started": "2022-03-20T08:24:07.033814Z"
    },
    "papermill": {
     "duration": 0.422674,
     "end_time": "2022-03-20T09:19:14.083697",
     "exception": false,
     "start_time": "2022-03-20T09:19:13.661023",
     "status": "completed"
    },
    "tags": []
   },
   "outputs": [],
   "source": [
    "from sklearn.impute import SimpleImputer \n",
    "imputer = SimpleImputer(missing_values = np.nan, strategy = 'mean')\n",
    "\n",
    "X_object = X.select_dtypes(\"object\")\n",
    "X_int = X.select_dtypes(exclude = \"object\")\n",
    "\n",
    "# To save the columns name for later use \n",
    "X_columns = X_int.columns\n",
    "\n",
    "imputer.fit(X_int)\n",
    "X_int = imputer.transform(X_int)\n",
    "X_int = pd.DataFrame(X_int)\n",
    "X_int.columns = X_columns\n",
    "X_object = X_object.fillna(\"unknown\")\n",
    "\n",
    "\n",
    "X = X_object.join(X_int)\n",
    "\n"
   ]
  },
  {
   "cell_type": "markdown",
   "id": "6d7baedd",
   "metadata": {
    "papermill": {
     "duration": 0.046243,
     "end_time": "2022-03-20T09:19:14.179768",
     "exception": false,
     "start_time": "2022-03-20T09:19:14.133525",
     "status": "completed"
    },
    "tags": []
   },
   "source": [
    "**Encoding X_object **"
   ]
  },
  {
   "cell_type": "code",
   "execution_count": 9,
   "id": "2e4967d1",
   "metadata": {
    "execution": {
     "iopub.execute_input": "2022-03-20T09:19:14.275148Z",
     "iopub.status.busy": "2022-03-20T09:19:14.274188Z",
     "iopub.status.idle": "2022-03-20T09:19:14.304724Z",
     "shell.execute_reply": "2022-03-20T09:19:14.304050Z",
     "shell.execute_reply.started": "2022-03-20T08:24:07.088982Z"
    },
    "papermill": {
     "duration": 0.079547,
     "end_time": "2022-03-20T09:19:14.304879",
     "exception": false,
     "start_time": "2022-03-20T09:19:14.225332",
     "status": "completed"
    },
    "tags": []
   },
   "outputs": [
    {
     "name": "stdout",
     "output_type": "stream",
     "text": [
      "<class 'pandas.core.frame.DataFrame'>\n",
      "RangeIndex: 25192 entries, 0 to 25191\n",
      "Data columns (total 39 columns):\n",
      " #   Column                       Non-Null Count  Dtype  \n",
      "---  ------                       --------------  -----  \n",
      " 0   protocol_type                25192 non-null  object \n",
      " 1   service                      25192 non-null  object \n",
      " 2   flag                         25192 non-null  object \n",
      " 3   duration                     25192 non-null  float64\n",
      " 4   src_bytes                    25192 non-null  float64\n",
      " 5   dst_bytes                    25192 non-null  float64\n",
      " 6   land                         25192 non-null  float64\n",
      " 7   wrong_fragment               25192 non-null  float64\n",
      " 8   urgent                       25192 non-null  float64\n",
      " 9   hot                          25192 non-null  float64\n",
      " 10  num_failed_logins            25192 non-null  float64\n",
      " 11  logged_in                    25192 non-null  float64\n",
      " 12  num_compromised              25192 non-null  float64\n",
      " 13  root_shell                   25192 non-null  float64\n",
      " 14  su_attempted                 25192 non-null  float64\n",
      " 15  num_root                     25192 non-null  float64\n",
      " 16  num_file_creations           25192 non-null  float64\n",
      " 17  num_shells                   25192 non-null  float64\n",
      " 18  num_access_files             25192 non-null  float64\n",
      " 19  is_guest_login               25192 non-null  float64\n",
      " 20  count                        25192 non-null  float64\n",
      " 21  srv_count                    25192 non-null  float64\n",
      " 22  serror_rate                  25192 non-null  float64\n",
      " 23  srv_serror_rate              25192 non-null  float64\n",
      " 24  rerror_rate                  25192 non-null  float64\n",
      " 25  srv_rerror_rate              25192 non-null  float64\n",
      " 26  same_srv_rate                25192 non-null  float64\n",
      " 27  diff_srv_rate                25192 non-null  float64\n",
      " 28  srv_diff_host_rate           25192 non-null  float64\n",
      " 29  dst_host_count               25192 non-null  float64\n",
      " 30  dst_host_srv_count           25192 non-null  float64\n",
      " 31  dst_host_same_srv_rate       25192 non-null  float64\n",
      " 32  dst_host_diff_srv_rate       25192 non-null  float64\n",
      " 33  dst_host_same_src_port_rate  25192 non-null  float64\n",
      " 34  dst_host_srv_diff_host_rate  25192 non-null  float64\n",
      " 35  dst_host_serror_rate         25192 non-null  float64\n",
      " 36  dst_host_srv_serror_rate     25192 non-null  float64\n",
      " 37  dst_host_rerror_rate         25192 non-null  float64\n",
      " 38  dst_host_srv_rerror_rate     25192 non-null  float64\n",
      "dtypes: float64(36), object(3)\n",
      "memory usage: 7.5+ MB\n"
     ]
    }
   ],
   "source": [
    "# to print the full summary\n",
    "X.info()"
   ]
  },
  {
   "cell_type": "code",
   "execution_count": 10,
   "id": "7b530b34",
   "metadata": {
    "execution": {
     "iopub.execute_input": "2022-03-20T09:19:14.401677Z",
     "iopub.status.busy": "2022-03-20T09:19:14.401005Z",
     "iopub.status.idle": "2022-03-20T09:19:14.523999Z",
     "shell.execute_reply": "2022-03-20T09:19:14.523462Z",
     "shell.execute_reply.started": "2022-03-20T08:24:07.122097Z"
    },
    "papermill": {
     "duration": 0.17293,
     "end_time": "2022-03-20T09:19:14.524198",
     "exception": false,
     "start_time": "2022-03-20T09:19:14.351268",
     "status": "completed"
    },
    "tags": []
   },
   "outputs": [
    {
     "data": {
      "text/html": [
       "<div>\n",
       "<style scoped>\n",
       "    .dataframe tbody tr th:only-of-type {\n",
       "        vertical-align: middle;\n",
       "    }\n",
       "\n",
       "    .dataframe tbody tr th {\n",
       "        vertical-align: top;\n",
       "    }\n",
       "\n",
       "    .dataframe thead th {\n",
       "        text-align: right;\n",
       "    }\n",
       "</style>\n",
       "<table border=\"1\" class=\"dataframe\">\n",
       "  <thead>\n",
       "    <tr style=\"text-align: right;\">\n",
       "      <th></th>\n",
       "      <th>duration</th>\n",
       "      <th>src_bytes</th>\n",
       "      <th>dst_bytes</th>\n",
       "      <th>land</th>\n",
       "      <th>wrong_fragment</th>\n",
       "      <th>urgent</th>\n",
       "      <th>hot</th>\n",
       "      <th>num_failed_logins</th>\n",
       "      <th>logged_in</th>\n",
       "      <th>num_compromised</th>\n",
       "      <th>...</th>\n",
       "      <th>dst_host_count</th>\n",
       "      <th>dst_host_srv_count</th>\n",
       "      <th>dst_host_same_srv_rate</th>\n",
       "      <th>dst_host_diff_srv_rate</th>\n",
       "      <th>dst_host_same_src_port_rate</th>\n",
       "      <th>dst_host_srv_diff_host_rate</th>\n",
       "      <th>dst_host_serror_rate</th>\n",
       "      <th>dst_host_srv_serror_rate</th>\n",
       "      <th>dst_host_rerror_rate</th>\n",
       "      <th>dst_host_srv_rerror_rate</th>\n",
       "    </tr>\n",
       "  </thead>\n",
       "  <tbody>\n",
       "    <tr>\n",
       "      <th>count</th>\n",
       "      <td>25192.000000</td>\n",
       "      <td>2.519200e+04</td>\n",
       "      <td>2.519200e+04</td>\n",
       "      <td>25192.000000</td>\n",
       "      <td>25192.000000</td>\n",
       "      <td>25192.00000</td>\n",
       "      <td>25192.000000</td>\n",
       "      <td>25192.000000</td>\n",
       "      <td>25192.000000</td>\n",
       "      <td>25192.000000</td>\n",
       "      <td>...</td>\n",
       "      <td>25192.000000</td>\n",
       "      <td>25192.000000</td>\n",
       "      <td>25192.000000</td>\n",
       "      <td>25192.000000</td>\n",
       "      <td>25192.000000</td>\n",
       "      <td>25192.000000</td>\n",
       "      <td>25192.000000</td>\n",
       "      <td>25192.000000</td>\n",
       "      <td>25192.000000</td>\n",
       "      <td>25192.000000</td>\n",
       "    </tr>\n",
       "    <tr>\n",
       "      <th>mean</th>\n",
       "      <td>305.054104</td>\n",
       "      <td>2.433063e+04</td>\n",
       "      <td>3.491847e+03</td>\n",
       "      <td>0.000079</td>\n",
       "      <td>0.023738</td>\n",
       "      <td>0.00004</td>\n",
       "      <td>0.198039</td>\n",
       "      <td>0.001191</td>\n",
       "      <td>0.394768</td>\n",
       "      <td>0.227850</td>\n",
       "      <td>...</td>\n",
       "      <td>182.532074</td>\n",
       "      <td>115.063036</td>\n",
       "      <td>0.519791</td>\n",
       "      <td>0.082539</td>\n",
       "      <td>0.147453</td>\n",
       "      <td>0.031844</td>\n",
       "      <td>0.285800</td>\n",
       "      <td>0.279846</td>\n",
       "      <td>0.117800</td>\n",
       "      <td>0.118769</td>\n",
       "    </tr>\n",
       "    <tr>\n",
       "      <th>std</th>\n",
       "      <td>2686.555640</td>\n",
       "      <td>2.410805e+06</td>\n",
       "      <td>8.883072e+04</td>\n",
       "      <td>0.008910</td>\n",
       "      <td>0.260221</td>\n",
       "      <td>0.00630</td>\n",
       "      <td>2.154202</td>\n",
       "      <td>0.045418</td>\n",
       "      <td>0.488811</td>\n",
       "      <td>10.417352</td>\n",
       "      <td>...</td>\n",
       "      <td>98.993895</td>\n",
       "      <td>110.646850</td>\n",
       "      <td>0.448944</td>\n",
       "      <td>0.187191</td>\n",
       "      <td>0.308367</td>\n",
       "      <td>0.110575</td>\n",
       "      <td>0.445316</td>\n",
       "      <td>0.446075</td>\n",
       "      <td>0.305869</td>\n",
       "      <td>0.317333</td>\n",
       "    </tr>\n",
       "    <tr>\n",
       "      <th>min</th>\n",
       "      <td>0.000000</td>\n",
       "      <td>0.000000e+00</td>\n",
       "      <td>0.000000e+00</td>\n",
       "      <td>0.000000</td>\n",
       "      <td>0.000000</td>\n",
       "      <td>0.00000</td>\n",
       "      <td>0.000000</td>\n",
       "      <td>0.000000</td>\n",
       "      <td>0.000000</td>\n",
       "      <td>0.000000</td>\n",
       "      <td>...</td>\n",
       "      <td>0.000000</td>\n",
       "      <td>0.000000</td>\n",
       "      <td>0.000000</td>\n",
       "      <td>0.000000</td>\n",
       "      <td>0.000000</td>\n",
       "      <td>0.000000</td>\n",
       "      <td>0.000000</td>\n",
       "      <td>0.000000</td>\n",
       "      <td>0.000000</td>\n",
       "      <td>0.000000</td>\n",
       "    </tr>\n",
       "    <tr>\n",
       "      <th>25%</th>\n",
       "      <td>0.000000</td>\n",
       "      <td>0.000000e+00</td>\n",
       "      <td>0.000000e+00</td>\n",
       "      <td>0.000000</td>\n",
       "      <td>0.000000</td>\n",
       "      <td>0.00000</td>\n",
       "      <td>0.000000</td>\n",
       "      <td>0.000000</td>\n",
       "      <td>0.000000</td>\n",
       "      <td>0.000000</td>\n",
       "      <td>...</td>\n",
       "      <td>84.000000</td>\n",
       "      <td>10.000000</td>\n",
       "      <td>0.050000</td>\n",
       "      <td>0.000000</td>\n",
       "      <td>0.000000</td>\n",
       "      <td>0.000000</td>\n",
       "      <td>0.000000</td>\n",
       "      <td>0.000000</td>\n",
       "      <td>0.000000</td>\n",
       "      <td>0.000000</td>\n",
       "    </tr>\n",
       "    <tr>\n",
       "      <th>50%</th>\n",
       "      <td>0.000000</td>\n",
       "      <td>4.400000e+01</td>\n",
       "      <td>0.000000e+00</td>\n",
       "      <td>0.000000</td>\n",
       "      <td>0.000000</td>\n",
       "      <td>0.00000</td>\n",
       "      <td>0.000000</td>\n",
       "      <td>0.000000</td>\n",
       "      <td>0.000000</td>\n",
       "      <td>0.000000</td>\n",
       "      <td>...</td>\n",
       "      <td>255.000000</td>\n",
       "      <td>61.000000</td>\n",
       "      <td>0.510000</td>\n",
       "      <td>0.030000</td>\n",
       "      <td>0.000000</td>\n",
       "      <td>0.000000</td>\n",
       "      <td>0.000000</td>\n",
       "      <td>0.000000</td>\n",
       "      <td>0.000000</td>\n",
       "      <td>0.000000</td>\n",
       "    </tr>\n",
       "    <tr>\n",
       "      <th>75%</th>\n",
       "      <td>0.000000</td>\n",
       "      <td>2.790000e+02</td>\n",
       "      <td>5.302500e+02</td>\n",
       "      <td>0.000000</td>\n",
       "      <td>0.000000</td>\n",
       "      <td>0.00000</td>\n",
       "      <td>0.000000</td>\n",
       "      <td>0.000000</td>\n",
       "      <td>1.000000</td>\n",
       "      <td>0.000000</td>\n",
       "      <td>...</td>\n",
       "      <td>255.000000</td>\n",
       "      <td>255.000000</td>\n",
       "      <td>1.000000</td>\n",
       "      <td>0.070000</td>\n",
       "      <td>0.060000</td>\n",
       "      <td>0.020000</td>\n",
       "      <td>1.000000</td>\n",
       "      <td>1.000000</td>\n",
       "      <td>0.000000</td>\n",
       "      <td>0.000000</td>\n",
       "    </tr>\n",
       "    <tr>\n",
       "      <th>max</th>\n",
       "      <td>42862.000000</td>\n",
       "      <td>3.817091e+08</td>\n",
       "      <td>5.151385e+06</td>\n",
       "      <td>1.000000</td>\n",
       "      <td>3.000000</td>\n",
       "      <td>1.00000</td>\n",
       "      <td>77.000000</td>\n",
       "      <td>4.000000</td>\n",
       "      <td>1.000000</td>\n",
       "      <td>884.000000</td>\n",
       "      <td>...</td>\n",
       "      <td>255.000000</td>\n",
       "      <td>255.000000</td>\n",
       "      <td>1.000000</td>\n",
       "      <td>1.000000</td>\n",
       "      <td>1.000000</td>\n",
       "      <td>1.000000</td>\n",
       "      <td>1.000000</td>\n",
       "      <td>1.000000</td>\n",
       "      <td>1.000000</td>\n",
       "      <td>1.000000</td>\n",
       "    </tr>\n",
       "  </tbody>\n",
       "</table>\n",
       "<p>8 rows × 36 columns</p>\n",
       "</div>"
      ],
      "text/plain": [
       "           duration     src_bytes     dst_bytes          land  wrong_fragment  \\\n",
       "count  25192.000000  2.519200e+04  2.519200e+04  25192.000000    25192.000000   \n",
       "mean     305.054104  2.433063e+04  3.491847e+03      0.000079        0.023738   \n",
       "std     2686.555640  2.410805e+06  8.883072e+04      0.008910        0.260221   \n",
       "min        0.000000  0.000000e+00  0.000000e+00      0.000000        0.000000   \n",
       "25%        0.000000  0.000000e+00  0.000000e+00      0.000000        0.000000   \n",
       "50%        0.000000  4.400000e+01  0.000000e+00      0.000000        0.000000   \n",
       "75%        0.000000  2.790000e+02  5.302500e+02      0.000000        0.000000   \n",
       "max    42862.000000  3.817091e+08  5.151385e+06      1.000000        3.000000   \n",
       "\n",
       "            urgent           hot  num_failed_logins     logged_in  \\\n",
       "count  25192.00000  25192.000000       25192.000000  25192.000000   \n",
       "mean       0.00004      0.198039           0.001191      0.394768   \n",
       "std        0.00630      2.154202           0.045418      0.488811   \n",
       "min        0.00000      0.000000           0.000000      0.000000   \n",
       "25%        0.00000      0.000000           0.000000      0.000000   \n",
       "50%        0.00000      0.000000           0.000000      0.000000   \n",
       "75%        0.00000      0.000000           0.000000      1.000000   \n",
       "max        1.00000     77.000000           4.000000      1.000000   \n",
       "\n",
       "       num_compromised  ...  dst_host_count  dst_host_srv_count  \\\n",
       "count     25192.000000  ...    25192.000000        25192.000000   \n",
       "mean          0.227850  ...      182.532074          115.063036   \n",
       "std          10.417352  ...       98.993895          110.646850   \n",
       "min           0.000000  ...        0.000000            0.000000   \n",
       "25%           0.000000  ...       84.000000           10.000000   \n",
       "50%           0.000000  ...      255.000000           61.000000   \n",
       "75%           0.000000  ...      255.000000          255.000000   \n",
       "max         884.000000  ...      255.000000          255.000000   \n",
       "\n",
       "       dst_host_same_srv_rate  dst_host_diff_srv_rate  \\\n",
       "count            25192.000000            25192.000000   \n",
       "mean                 0.519791                0.082539   \n",
       "std                  0.448944                0.187191   \n",
       "min                  0.000000                0.000000   \n",
       "25%                  0.050000                0.000000   \n",
       "50%                  0.510000                0.030000   \n",
       "75%                  1.000000                0.070000   \n",
       "max                  1.000000                1.000000   \n",
       "\n",
       "       dst_host_same_src_port_rate  dst_host_srv_diff_host_rate  \\\n",
       "count                 25192.000000                 25192.000000   \n",
       "mean                      0.147453                     0.031844   \n",
       "std                       0.308367                     0.110575   \n",
       "min                       0.000000                     0.000000   \n",
       "25%                       0.000000                     0.000000   \n",
       "50%                       0.000000                     0.000000   \n",
       "75%                       0.060000                     0.020000   \n",
       "max                       1.000000                     1.000000   \n",
       "\n",
       "       dst_host_serror_rate  dst_host_srv_serror_rate  dst_host_rerror_rate  \\\n",
       "count          25192.000000              25192.000000          25192.000000   \n",
       "mean               0.285800                  0.279846              0.117800   \n",
       "std                0.445316                  0.446075              0.305869   \n",
       "min                0.000000                  0.000000              0.000000   \n",
       "25%                0.000000                  0.000000              0.000000   \n",
       "50%                0.000000                  0.000000              0.000000   \n",
       "75%                1.000000                  1.000000              0.000000   \n",
       "max                1.000000                  1.000000              1.000000   \n",
       "\n",
       "       dst_host_srv_rerror_rate  \n",
       "count              25192.000000  \n",
       "mean                   0.118769  \n",
       "std                    0.317333  \n",
       "min                    0.000000  \n",
       "25%                    0.000000  \n",
       "50%                    0.000000  \n",
       "75%                    0.000000  \n",
       "max                    1.000000  \n",
       "\n",
       "[8 rows x 36 columns]"
      ]
     },
     "execution_count": 10,
     "metadata": {},
     "output_type": "execute_result"
    }
   ],
   "source": [
    "# Descriptive analysis of the data\n",
    "X.describe()"
   ]
  },
  {
   "cell_type": "code",
   "execution_count": 11,
   "id": "59f40910",
   "metadata": {
    "execution": {
     "iopub.execute_input": "2022-03-20T09:19:14.650105Z",
     "iopub.status.busy": "2022-03-20T09:19:14.631522Z",
     "iopub.status.idle": "2022-03-20T09:19:14.653255Z",
     "shell.execute_reply": "2022-03-20T09:19:14.653744Z",
     "shell.execute_reply.started": "2022-03-20T08:24:07.262129Z"
    },
    "papermill": {
     "duration": 0.082074,
     "end_time": "2022-03-20T09:19:14.653911",
     "exception": false,
     "start_time": "2022-03-20T09:19:14.571837",
     "status": "completed"
    },
    "tags": []
   },
   "outputs": [
    {
     "data": {
      "text/html": [
       "<div>\n",
       "<style scoped>\n",
       "    .dataframe tbody tr th:only-of-type {\n",
       "        vertical-align: middle;\n",
       "    }\n",
       "\n",
       "    .dataframe tbody tr th {\n",
       "        vertical-align: top;\n",
       "    }\n",
       "\n",
       "    .dataframe thead th {\n",
       "        text-align: right;\n",
       "    }\n",
       "</style>\n",
       "<table border=\"1\" class=\"dataframe\">\n",
       "  <thead>\n",
       "    <tr style=\"text-align: right;\">\n",
       "      <th></th>\n",
       "      <th>protocol_type</th>\n",
       "      <th>service</th>\n",
       "      <th>flag</th>\n",
       "      <th>duration</th>\n",
       "      <th>src_bytes</th>\n",
       "      <th>dst_bytes</th>\n",
       "      <th>land</th>\n",
       "      <th>wrong_fragment</th>\n",
       "      <th>urgent</th>\n",
       "      <th>hot</th>\n",
       "      <th>...</th>\n",
       "      <th>dst_host_count</th>\n",
       "      <th>dst_host_srv_count</th>\n",
       "      <th>dst_host_same_srv_rate</th>\n",
       "      <th>dst_host_diff_srv_rate</th>\n",
       "      <th>dst_host_same_src_port_rate</th>\n",
       "      <th>dst_host_srv_diff_host_rate</th>\n",
       "      <th>dst_host_serror_rate</th>\n",
       "      <th>dst_host_srv_serror_rate</th>\n",
       "      <th>dst_host_rerror_rate</th>\n",
       "      <th>dst_host_srv_rerror_rate</th>\n",
       "    </tr>\n",
       "  </thead>\n",
       "  <tbody>\n",
       "    <tr>\n",
       "      <th>0</th>\n",
       "      <td>tcp</td>\n",
       "      <td>ftp_data</td>\n",
       "      <td>SF</td>\n",
       "      <td>0.0</td>\n",
       "      <td>491.0</td>\n",
       "      <td>0.0</td>\n",
       "      <td>0.0</td>\n",
       "      <td>0.0</td>\n",
       "      <td>0.0</td>\n",
       "      <td>0.0</td>\n",
       "      <td>...</td>\n",
       "      <td>150.0</td>\n",
       "      <td>25.0</td>\n",
       "      <td>0.17</td>\n",
       "      <td>0.03</td>\n",
       "      <td>0.17</td>\n",
       "      <td>0.00</td>\n",
       "      <td>0.00</td>\n",
       "      <td>0.00</td>\n",
       "      <td>0.05</td>\n",
       "      <td>0.00</td>\n",
       "    </tr>\n",
       "    <tr>\n",
       "      <th>1</th>\n",
       "      <td>udp</td>\n",
       "      <td>other</td>\n",
       "      <td>SF</td>\n",
       "      <td>0.0</td>\n",
       "      <td>146.0</td>\n",
       "      <td>0.0</td>\n",
       "      <td>0.0</td>\n",
       "      <td>0.0</td>\n",
       "      <td>0.0</td>\n",
       "      <td>0.0</td>\n",
       "      <td>...</td>\n",
       "      <td>255.0</td>\n",
       "      <td>1.0</td>\n",
       "      <td>0.00</td>\n",
       "      <td>0.60</td>\n",
       "      <td>0.88</td>\n",
       "      <td>0.00</td>\n",
       "      <td>0.00</td>\n",
       "      <td>0.00</td>\n",
       "      <td>0.00</td>\n",
       "      <td>0.00</td>\n",
       "    </tr>\n",
       "    <tr>\n",
       "      <th>2</th>\n",
       "      <td>tcp</td>\n",
       "      <td>private</td>\n",
       "      <td>S0</td>\n",
       "      <td>0.0</td>\n",
       "      <td>0.0</td>\n",
       "      <td>0.0</td>\n",
       "      <td>0.0</td>\n",
       "      <td>0.0</td>\n",
       "      <td>0.0</td>\n",
       "      <td>0.0</td>\n",
       "      <td>...</td>\n",
       "      <td>255.0</td>\n",
       "      <td>26.0</td>\n",
       "      <td>0.10</td>\n",
       "      <td>0.05</td>\n",
       "      <td>0.00</td>\n",
       "      <td>0.00</td>\n",
       "      <td>1.00</td>\n",
       "      <td>1.00</td>\n",
       "      <td>0.00</td>\n",
       "      <td>0.00</td>\n",
       "    </tr>\n",
       "    <tr>\n",
       "      <th>3</th>\n",
       "      <td>tcp</td>\n",
       "      <td>http</td>\n",
       "      <td>SF</td>\n",
       "      <td>0.0</td>\n",
       "      <td>232.0</td>\n",
       "      <td>8153.0</td>\n",
       "      <td>0.0</td>\n",
       "      <td>0.0</td>\n",
       "      <td>0.0</td>\n",
       "      <td>0.0</td>\n",
       "      <td>...</td>\n",
       "      <td>30.0</td>\n",
       "      <td>255.0</td>\n",
       "      <td>1.00</td>\n",
       "      <td>0.00</td>\n",
       "      <td>0.03</td>\n",
       "      <td>0.04</td>\n",
       "      <td>0.03</td>\n",
       "      <td>0.01</td>\n",
       "      <td>0.00</td>\n",
       "      <td>0.01</td>\n",
       "    </tr>\n",
       "    <tr>\n",
       "      <th>4</th>\n",
       "      <td>tcp</td>\n",
       "      <td>http</td>\n",
       "      <td>SF</td>\n",
       "      <td>0.0</td>\n",
       "      <td>199.0</td>\n",
       "      <td>420.0</td>\n",
       "      <td>0.0</td>\n",
       "      <td>0.0</td>\n",
       "      <td>0.0</td>\n",
       "      <td>0.0</td>\n",
       "      <td>...</td>\n",
       "      <td>255.0</td>\n",
       "      <td>255.0</td>\n",
       "      <td>1.00</td>\n",
       "      <td>0.00</td>\n",
       "      <td>0.00</td>\n",
       "      <td>0.00</td>\n",
       "      <td>0.00</td>\n",
       "      <td>0.00</td>\n",
       "      <td>0.00</td>\n",
       "      <td>0.00</td>\n",
       "    </tr>\n",
       "  </tbody>\n",
       "</table>\n",
       "<p>5 rows × 39 columns</p>\n",
       "</div>"
      ],
      "text/plain": [
       "  protocol_type   service flag  duration  src_bytes  dst_bytes  land  \\\n",
       "0           tcp  ftp_data   SF       0.0      491.0        0.0   0.0   \n",
       "1           udp     other   SF       0.0      146.0        0.0   0.0   \n",
       "2           tcp   private   S0       0.0        0.0        0.0   0.0   \n",
       "3           tcp      http   SF       0.0      232.0     8153.0   0.0   \n",
       "4           tcp      http   SF       0.0      199.0      420.0   0.0   \n",
       "\n",
       "   wrong_fragment  urgent  hot  ...  dst_host_count  dst_host_srv_count  \\\n",
       "0             0.0     0.0  0.0  ...           150.0                25.0   \n",
       "1             0.0     0.0  0.0  ...           255.0                 1.0   \n",
       "2             0.0     0.0  0.0  ...           255.0                26.0   \n",
       "3             0.0     0.0  0.0  ...            30.0               255.0   \n",
       "4             0.0     0.0  0.0  ...           255.0               255.0   \n",
       "\n",
       "   dst_host_same_srv_rate  dst_host_diff_srv_rate  \\\n",
       "0                    0.17                    0.03   \n",
       "1                    0.00                    0.60   \n",
       "2                    0.10                    0.05   \n",
       "3                    1.00                    0.00   \n",
       "4                    1.00                    0.00   \n",
       "\n",
       "   dst_host_same_src_port_rate  dst_host_srv_diff_host_rate  \\\n",
       "0                         0.17                         0.00   \n",
       "1                         0.88                         0.00   \n",
       "2                         0.00                         0.00   \n",
       "3                         0.03                         0.04   \n",
       "4                         0.00                         0.00   \n",
       "\n",
       "   dst_host_serror_rate  dst_host_srv_serror_rate  dst_host_rerror_rate  \\\n",
       "0                  0.00                      0.00                  0.05   \n",
       "1                  0.00                      0.00                  0.00   \n",
       "2                  1.00                      1.00                  0.00   \n",
       "3                  0.03                      0.01                  0.00   \n",
       "4                  0.00                      0.00                  0.00   \n",
       "\n",
       "   dst_host_srv_rerror_rate  \n",
       "0                      0.00  \n",
       "1                      0.00  \n",
       "2                      0.00  \n",
       "3                      0.01  \n",
       "4                      0.00  \n",
       "\n",
       "[5 rows x 39 columns]"
      ]
     },
     "execution_count": 11,
     "metadata": {},
     "output_type": "execute_result"
    }
   ],
   "source": [
    "X.head()"
   ]
  },
  {
   "cell_type": "markdown",
   "id": "48dd6c8e",
   "metadata": {
    "papermill": {
     "duration": 0.046944,
     "end_time": "2022-03-20T09:19:14.843131",
     "exception": false,
     "start_time": "2022-03-20T09:19:14.796187",
     "status": "completed"
    },
    "tags": []
   },
   "source": [
    "Now, we plot various graphs to identify distributions, relationships or any pattern that is not visible by seeing raw data.\n",
    "\n"
   ]
  },
  {
   "cell_type": "code",
   "execution_count": 12,
   "id": "f63337fe",
   "metadata": {
    "execution": {
     "iopub.execute_input": "2022-03-20T09:19:14.941825Z",
     "iopub.status.busy": "2022-03-20T09:19:14.940804Z",
     "iopub.status.idle": "2022-03-20T09:19:15.146060Z",
     "shell.execute_reply": "2022-03-20T09:19:15.146679Z",
     "shell.execute_reply.started": "2022-03-20T08:24:07.299594Z"
    },
    "papermill": {
     "duration": 0.256712,
     "end_time": "2022-03-20T09:19:15.146859",
     "exception": false,
     "start_time": "2022-03-20T09:19:14.890147",
     "status": "completed"
    },
    "tags": []
   },
   "outputs": [
    {
     "data": {
      "text/plain": [
       "<AxesSubplot:xlabel='class', ylabel='count'>"
      ]
     },
     "execution_count": 12,
     "metadata": {},
     "output_type": "execute_result"
    },
    {
     "data": {
      "image/png": "[encoded data removed]",
      "text/plain": [
       "<Figure size 432x288 with 1 Axes>"
      ]
     },
     "metadata": {
      "needs_background": "light"
     },
     "output_type": "display_data"
    }
   ],
   "source": [
    "import warnings\n",
    "warnings.filterwarnings('ignore')\n",
    "sns.countplot(Y)\n"
   ]
  },
  {
   "cell_type": "code",
   "execution_count": 13,
   "id": "8e7e7c97",
   "metadata": {
    "execution": {
     "iopub.execute_input": "2022-03-20T09:19:15.246860Z",
     "iopub.status.busy": "2022-03-20T09:19:15.245877Z",
     "iopub.status.idle": "2022-03-20T09:19:15.482354Z",
     "shell.execute_reply": "2022-03-20T09:19:15.481762Z",
     "shell.execute_reply.started": "2022-03-20T08:24:07.545187Z"
    },
    "papermill": {
     "duration": 0.28754,
     "end_time": "2022-03-20T09:19:15.482513",
     "exception": false,
     "start_time": "2022-03-20T09:19:15.194973",
     "status": "completed"
    },
    "tags": []
   },
   "outputs": [
    {
     "data": {
      "text/plain": [
       "<AxesSubplot:xlabel='protocol_type', ylabel='count'>"
      ]
     },
     "execution_count": 13,
     "metadata": {},
     "output_type": "execute_result"
    },
    {
     "data": {
      "image/png": "[encoded data removed]",
      "text/plain": [
       "<Figure size 432x288 with 1 Axes>"
      ]
     },
     "metadata": {
      "needs_background": "light"
     },
     "output_type": "display_data"
    }
   ],
   "source": [
    "sns.countplot(X['protocol_type'], hue=Y)"
   ]
  },
  {
   "cell_type": "code",
   "execution_count": 14,
   "id": "193eed85",
   "metadata": {
    "execution": {
     "iopub.execute_input": "2022-03-20T09:19:15.607128Z",
     "iopub.status.busy": "2022-03-20T09:19:15.605593Z",
     "iopub.status.idle": "2022-03-20T09:19:16.045823Z",
     "shell.execute_reply": "2022-03-20T09:19:16.046359Z",
     "shell.execute_reply.started": "2022-03-20T08:24:07.842101Z"
    },
    "papermill": {
     "duration": 0.512581,
     "end_time": "2022-03-20T09:19:16.046538",
     "exception": false,
     "start_time": "2022-03-20T09:19:15.533957",
     "status": "completed"
    },
    "tags": []
   },
   "outputs": [
    {
     "data": {
      "text/plain": [
       "<AxesSubplot:xlabel='flag', ylabel='count'>"
      ]
     },
     "execution_count": 14,
     "metadata": {},
     "output_type": "execute_result"
    },
    {
     "data": {
      "image/png": "[encoded data removed]",
      "text/plain": [
       "<Figure size 864x432 with 1 Axes>"
      ]
     },
     "metadata": {
      "needs_background": "light"
     },
     "output_type": "display_data"
    }
   ],
   "source": [
    "plt.figure(figsize=(12,6))\n",
    "sns.countplot(X['flag'], hue=Y)"
   ]
  },
  {
   "cell_type": "code",
   "execution_count": 15,
   "id": "f868cf0f",
   "metadata": {
    "execution": {
     "iopub.execute_input": "2022-03-20T09:19:16.152612Z",
     "iopub.status.busy": "2022-03-20T09:19:16.151616Z",
     "iopub.status.idle": "2022-03-20T09:19:16.436896Z",
     "shell.execute_reply": "2022-03-20T09:19:16.437541Z",
     "shell.execute_reply.started": "2022-03-20T08:24:08.26285Z"
    },
    "papermill": {
     "duration": 0.339839,
     "end_time": "2022-03-20T09:19:16.437715",
     "exception": false,
     "start_time": "2022-03-20T09:19:16.097876",
     "status": "completed"
    },
    "tags": []
   },
   "outputs": [
    {
     "data": {
      "text/plain": [
       "<AxesSubplot:xlabel='count'>"
      ]
     },
     "execution_count": 15,
     "metadata": {},
     "output_type": "execute_result"
    },
    {
     "data": {
      "image/png": "[encoded data removed]",
      "text/plain": [
       "<Figure size 1152x432 with 1 Axes>"
      ]
     },
     "metadata": {
      "needs_background": "light"
     },
     "output_type": "display_data"
    }
   ],
   "source": [
    "plt.figure(figsize=(16,6))\n",
    "sns.distplot(X['count'], kde=False)"
   ]
  },
  {
   "cell_type": "code",
   "execution_count": 16,
   "id": "a5e8c382",
   "metadata": {
    "execution": {
     "iopub.execute_input": "2022-03-20T09:19:16.549954Z",
     "iopub.status.busy": "2022-03-20T09:19:16.548944Z",
     "iopub.status.idle": "2022-03-20T09:19:16.993666Z",
     "shell.execute_reply": "2022-03-20T09:19:16.994174Z",
     "shell.execute_reply.started": "2022-03-20T08:24:08.633958Z"
    },
    "papermill": {
     "duration": 0.503846,
     "end_time": "2022-03-20T09:19:16.994355",
     "exception": false,
     "start_time": "2022-03-20T09:19:16.490509",
     "status": "completed"
    },
    "tags": []
   },
   "outputs": [
    {
     "data": {
      "text/plain": [
       "<AxesSubplot:xlabel='dst_host_srv_count', ylabel='Density'>"
      ]
     },
     "execution_count": 16,
     "metadata": {},
     "output_type": "execute_result"
    },
    {
     "data": {
      "image/png": "[encoded data removed]",
      "text/plain": [
       "<Figure size 432x288 with 1 Axes>"
      ]
     },
     "metadata": {
      "needs_background": "light"
     },
     "output_type": "display_data"
    }
   ],
   "source": [
    "sns.distplot(X.dst_host_srv_count)"
   ]
  },
  {
   "cell_type": "markdown",
   "id": "105e52aa",
   "metadata": {
    "papermill": {
     "duration": 0.052701,
     "end_time": "2022-03-20T09:19:17.101259",
     "exception": false,
     "start_time": "2022-03-20T09:19:17.048558",
     "status": "completed"
    },
    "tags": []
   },
   "source": [
    "## **Important Observations:**\n",
    "* A slight imbalance was identified in the target column \"class\" of our dataset.\n",
    "* 80% of traffic belongs TCP while 12% belongs to UDP and rest to ICMP.\n",
    "* Most of the ICMP traffic had anomaly; most of the UDP traffic was normal; while the distribution was almost equal in case of TCP.\n",
    "* Most of the traffic with SF was normal, while that had S0 flag had anomaly.\n",
    "* Most of the traffic recorded was unique.\n"
   ]
  },
  {
   "cell_type": "markdown",
   "id": "c7c82870",
   "metadata": {
    "papermill": {
     "duration": 0.052218,
     "end_time": "2022-03-20T09:19:17.205966",
     "exception": false,
     "start_time": "2022-03-20T09:19:17.153748",
     "status": "completed"
    },
    "tags": []
   },
   "source": [
    "**Using one hot encoding to encode the target class as 0s and 1s, so that it can be used for further analysis and training.**"
   ]
  },
  {
   "cell_type": "code",
   "execution_count": 17,
   "id": "fc299ccd",
   "metadata": {
    "execution": {
     "iopub.execute_input": "2022-03-20T09:19:17.317662Z",
     "iopub.status.busy": "2022-03-20T09:19:17.316654Z",
     "iopub.status.idle": "2022-03-20T09:19:17.333284Z",
     "shell.execute_reply": "2022-03-20T09:19:17.333819Z",
     "shell.execute_reply.started": "2022-03-20T08:24:09.164513Z"
    },
    "papermill": {
     "duration": 0.074291,
     "end_time": "2022-03-20T09:19:17.333984",
     "exception": false,
     "start_time": "2022-03-20T09:19:17.259693",
     "status": "completed"
    },
    "tags": []
   },
   "outputs": [
    {
     "data": {
      "text/plain": [
       "0        1\n",
       "1        1\n",
       "2        0\n",
       "3        1\n",
       "4        1\n",
       "        ..\n",
       "25187    0\n",
       "25188    0\n",
       "25189    0\n",
       "25190    0\n",
       "25191    0\n",
       "Length: 25192, dtype: int64"
      ]
     },
     "execution_count": 17,
     "metadata": {},
     "output_type": "execute_result"
    }
   ],
   "source": [
    "from sklearn.preprocessing import LabelEncoder\n",
    "LE = LabelEncoder()\n",
    "Y = LE.fit_transform(Y)\n",
    "Y = pd.Series(Y)\n",
    "Y"
   ]
  },
  {
   "cell_type": "code",
   "execution_count": 18,
   "id": "7652ab3c",
   "metadata": {
    "execution": {
     "iopub.execute_input": "2022-03-20T09:19:17.446583Z",
     "iopub.status.busy": "2022-03-20T09:19:17.445897Z",
     "iopub.status.idle": "2022-03-20T09:19:18.820305Z",
     "shell.execute_reply": "2022-03-20T09:19:18.821001Z",
     "shell.execute_reply.started": "2022-03-20T08:24:09.184805Z"
    },
    "papermill": {
     "duration": 1.434684,
     "end_time": "2022-03-20T09:19:18.821217",
     "exception": false,
     "start_time": "2022-03-20T09:19:17.386533",
     "status": "completed"
    },
    "tags": []
   },
   "outputs": [
    {
     "data": {
      "text/plain": [
       "<AxesSubplot:>"
      ]
     },
     "execution_count": 18,
     "metadata": {},
     "output_type": "execute_result"
    },
    {
     "data": {
      "image/png": "[encoded data removed]",
      "text/plain": [
       "<Figure size 1152x720 with 2 Axes>"
      ]
     },
     "metadata": {
      "needs_background": "light"
     },
     "output_type": "display_data"
    }
   ],
   "source": [
    "# Correlation Heatmap\n",
    "plt.figure(figsize=(16,10))\n",
    "sns.heatmap(X.corr().apply(abs))"
   ]
  },
  {
   "cell_type": "code",
   "execution_count": 19,
   "id": "9d889e21",
   "metadata": {
    "execution": {
     "iopub.execute_input": "2022-03-20T09:19:18.951252Z",
     "iopub.status.busy": "2022-03-20T09:19:18.949893Z",
     "iopub.status.idle": "2022-03-20T09:19:18.981755Z",
     "shell.execute_reply": "2022-03-20T09:19:18.982508Z",
     "shell.execute_reply.started": "2022-03-20T08:24:10.610385Z"
    },
    "papermill": {
     "duration": 0.100611,
     "end_time": "2022-03-20T09:19:18.982722",
     "exception": false,
     "start_time": "2022-03-20T09:19:18.882111",
     "status": "completed"
    },
    "tags": []
   },
   "outputs": [
    {
     "data": {
      "text/plain": [
       "same_srv_rate         0.749237\n",
       "dst_host_srv_count    0.719292\n",
       "dtype: float64"
      ]
     },
     "execution_count": 19,
     "metadata": {},
     "output_type": "execute_result"
    }
   ],
   "source": [
    "corr_with_target = X.corrwith(Y).apply(abs)\n",
    "corr_with_target[corr_with_target>0.7]"
   ]
  },
  {
   "cell_type": "markdown",
   "id": "11707c9a",
   "metadata": {},
   "source": [
    "**Encoding the \"object\" data type fields**"
   ]
  },
  {
   "cell_type": "code",
   "execution_count": 21,
   "id": "0bd203d9",
   "metadata": {
    "execution": {
     "iopub.execute_input": "2022-03-20T09:19:19.110469Z",
     "iopub.status.busy": "2022-03-20T09:19:19.109684Z",
     "iopub.status.idle": "2022-03-20T09:19:19.116726Z",
     "shell.execute_reply": "2022-03-20T09:19:19.117285Z",
     "shell.execute_reply.started": "2022-03-20T08:24:10.6461Z"
    },
    "papermill": {
     "duration": 0.072445,
     "end_time": "2022-03-20T09:19:19.117472",
     "exception": false,
     "start_time": "2022-03-20T09:19:19.045027",
     "status": "completed"
    },
    "tags": []
   },
   "outputs": [],
   "source": [
    "class LabelEncoderExt(object):\n",
    "    def __init__(self):\n",
    "        self.label_encoder = LabelEncoder()\n",
    "\n",
    "    def fit(self, data):\n",
    "        self.label_encoder = self.label_encoder.fit(list(data) + ['Unknown'])\n",
    "        self.classes_ = self.label_encoder.classes_\n",
    "        return self\n",
    "\n",
    "    def transform(self, data):\n",
    "        new_data = list(data)\n",
    "        for unique_item in np.unique(data):\n",
    "            if unique_item not in self.label_encoder.classes_:\n",
    "                new_data = ['Unknown' if x==unique_item else x for x in new_data]\n",
    "        return self.label_encoder.transform(new_data)"
   ]
  },
  {
   "cell_type": "code",
   "execution_count": 22,
   "id": "5c336814",
   "metadata": {
    "execution": {
     "iopub.execute_input": "2022-03-20T09:19:19.242179Z",
     "iopub.status.busy": "2022-03-20T09:19:19.241323Z",
     "iopub.status.idle": "2022-03-20T09:19:19.412563Z",
     "shell.execute_reply": "2022-03-20T09:19:19.413412Z",
     "shell.execute_reply.started": "2022-03-20T08:24:10.654615Z"
    },
    "papermill": {
     "duration": 0.236488,
     "end_time": "2022-03-20T09:19:19.413612",
     "exception": false,
     "start_time": "2022-03-20T09:19:19.177124",
     "status": "completed"
    },
    "tags": []
   },
   "outputs": [],
   "source": [
    "le = LabelEncoderExt()\n",
    "\n",
    "for col in X.select_dtypes(\"object\"):\n",
    "  le.fit(X[col])\n",
    "  X[col] = le.transform(X[col])"
   ]
  },
  {
   "cell_type": "markdown",
   "id": "511b4d1c",
   "metadata": {
    "papermill": {
     "duration": 0.060152,
     "end_time": "2022-03-20T09:19:19.533759",
     "exception": false,
     "start_time": "2022-03-20T09:19:19.473607",
     "status": "completed"
    },
    "tags": []
   },
   "source": [
    "**Splitting Data**"
   ]
  },
  {
   "cell_type": "code",
   "execution_count": 23,
   "id": "29f67176",
   "metadata": {
    "execution": {
     "iopub.execute_input": "2022-03-20T09:19:19.654533Z",
     "iopub.status.busy": "2022-03-20T09:19:19.653526Z",
     "iopub.status.idle": "2022-03-20T09:19:19.672060Z",
     "shell.execute_reply": "2022-03-20T09:19:19.672618Z",
     "shell.execute_reply.started": "2022-03-20T08:24:10.836196Z"
    },
    "papermill": {
     "duration": 0.081077,
     "end_time": "2022-03-20T09:19:19.672829",
     "exception": false,
     "start_time": "2022-03-20T09:19:19.591752",
     "status": "completed"
    },
    "tags": []
   },
   "outputs": [],
   "source": [
    "from sklearn.model_selection import train_test_split\n",
    "X_train, X_test, y_train, y_test = train_test_split(X, Y, test_size=0.3, random_state=42)"
   ]
  },
  {
   "cell_type": "code",
   "execution_count": 24,
   "id": "755f591c",
   "metadata": {
    "execution": {
     "iopub.execute_input": "2022-03-20T09:19:19.797164Z",
     "iopub.status.busy": "2022-03-20T09:19:19.796399Z",
     "iopub.status.idle": "2022-03-20T09:19:19.841163Z",
     "shell.execute_reply": "2022-03-20T09:19:19.841667Z",
     "shell.execute_reply.started": "2022-03-20T08:24:10.85326Z"
    },
    "papermill": {
     "duration": 0.109312,
     "end_time": "2022-03-20T09:19:19.841836",
     "exception": false,
     "start_time": "2022-03-20T09:19:19.732524",
     "status": "completed"
    },
    "tags": []
   },
   "outputs": [
    {
     "data": {
      "text/html": [
       "<div>\n",
       "<style scoped>\n",
       "    .dataframe tbody tr th:only-of-type {\n",
       "        vertical-align: middle;\n",
       "    }\n",
       "\n",
       "    .dataframe tbody tr th {\n",
       "        vertical-align: top;\n",
       "    }\n",
       "\n",
       "    .dataframe thead th {\n",
       "        text-align: right;\n",
       "    }\n",
       "</style>\n",
       "<table border=\"1\" class=\"dataframe\">\n",
       "  <thead>\n",
       "    <tr style=\"text-align: right;\">\n",
       "      <th></th>\n",
       "      <th>protocol_type</th>\n",
       "      <th>service</th>\n",
       "      <th>flag</th>\n",
       "      <th>duration</th>\n",
       "      <th>src_bytes</th>\n",
       "      <th>dst_bytes</th>\n",
       "      <th>land</th>\n",
       "      <th>wrong_fragment</th>\n",
       "      <th>urgent</th>\n",
       "      <th>hot</th>\n",
       "      <th>...</th>\n",
       "      <th>dst_host_count</th>\n",
       "      <th>dst_host_srv_count</th>\n",
       "      <th>dst_host_same_srv_rate</th>\n",
       "      <th>dst_host_diff_srv_rate</th>\n",
       "      <th>dst_host_same_src_port_rate</th>\n",
       "      <th>dst_host_srv_diff_host_rate</th>\n",
       "      <th>dst_host_serror_rate</th>\n",
       "      <th>dst_host_srv_serror_rate</th>\n",
       "      <th>dst_host_rerror_rate</th>\n",
       "      <th>dst_host_srv_rerror_rate</th>\n",
       "    </tr>\n",
       "  </thead>\n",
       "  <tbody>\n",
       "    <tr>\n",
       "      <th>741</th>\n",
       "      <td>2</td>\n",
       "      <td>47</td>\n",
       "      <td>5</td>\n",
       "      <td>0.0</td>\n",
       "      <td>0.0</td>\n",
       "      <td>0.0</td>\n",
       "      <td>0.0</td>\n",
       "      <td>0.0</td>\n",
       "      <td>0.0</td>\n",
       "      <td>0.0</td>\n",
       "      <td>...</td>\n",
       "      <td>255.0</td>\n",
       "      <td>1.0</td>\n",
       "      <td>0.00</td>\n",
       "      <td>0.08</td>\n",
       "      <td>0.00</td>\n",
       "      <td>0.00</td>\n",
       "      <td>1.0</td>\n",
       "      <td>1.0</td>\n",
       "      <td>0.0</td>\n",
       "      <td>0.0</td>\n",
       "    </tr>\n",
       "    <tr>\n",
       "      <th>411</th>\n",
       "      <td>2</td>\n",
       "      <td>17</td>\n",
       "      <td>2</td>\n",
       "      <td>0.0</td>\n",
       "      <td>0.0</td>\n",
       "      <td>0.0</td>\n",
       "      <td>0.0</td>\n",
       "      <td>0.0</td>\n",
       "      <td>0.0</td>\n",
       "      <td>0.0</td>\n",
       "      <td>...</td>\n",
       "      <td>255.0</td>\n",
       "      <td>4.0</td>\n",
       "      <td>0.02</td>\n",
       "      <td>0.06</td>\n",
       "      <td>0.00</td>\n",
       "      <td>0.00</td>\n",
       "      <td>0.0</td>\n",
       "      <td>0.0</td>\n",
       "      <td>1.0</td>\n",
       "      <td>1.0</td>\n",
       "    </tr>\n",
       "    <tr>\n",
       "      <th>17841</th>\n",
       "      <td>2</td>\n",
       "      <td>4</td>\n",
       "      <td>1</td>\n",
       "      <td>0.0</td>\n",
       "      <td>0.0</td>\n",
       "      <td>0.0</td>\n",
       "      <td>0.0</td>\n",
       "      <td>0.0</td>\n",
       "      <td>0.0</td>\n",
       "      <td>0.0</td>\n",
       "      <td>...</td>\n",
       "      <td>255.0</td>\n",
       "      <td>14.0</td>\n",
       "      <td>0.05</td>\n",
       "      <td>0.07</td>\n",
       "      <td>0.00</td>\n",
       "      <td>0.00</td>\n",
       "      <td>0.0</td>\n",
       "      <td>0.0</td>\n",
       "      <td>1.0</td>\n",
       "      <td>1.0</td>\n",
       "    </tr>\n",
       "    <tr>\n",
       "      <th>20962</th>\n",
       "      <td>1</td>\n",
       "      <td>14</td>\n",
       "      <td>9</td>\n",
       "      <td>0.0</td>\n",
       "      <td>8.0</td>\n",
       "      <td>0.0</td>\n",
       "      <td>0.0</td>\n",
       "      <td>0.0</td>\n",
       "      <td>0.0</td>\n",
       "      <td>0.0</td>\n",
       "      <td>...</td>\n",
       "      <td>2.0</td>\n",
       "      <td>152.0</td>\n",
       "      <td>1.00</td>\n",
       "      <td>0.00</td>\n",
       "      <td>1.00</td>\n",
       "      <td>0.50</td>\n",
       "      <td>0.0</td>\n",
       "      <td>0.0</td>\n",
       "      <td>0.0</td>\n",
       "      <td>0.0</td>\n",
       "    </tr>\n",
       "    <tr>\n",
       "      <th>17790</th>\n",
       "      <td>2</td>\n",
       "      <td>47</td>\n",
       "      <td>5</td>\n",
       "      <td>0.0</td>\n",
       "      <td>0.0</td>\n",
       "      <td>0.0</td>\n",
       "      <td>0.0</td>\n",
       "      <td>0.0</td>\n",
       "      <td>0.0</td>\n",
       "      <td>0.0</td>\n",
       "      <td>...</td>\n",
       "      <td>94.0</td>\n",
       "      <td>9.0</td>\n",
       "      <td>0.10</td>\n",
       "      <td>0.12</td>\n",
       "      <td>0.01</td>\n",
       "      <td>0.00</td>\n",
       "      <td>1.0</td>\n",
       "      <td>1.0</td>\n",
       "      <td>0.0</td>\n",
       "      <td>0.0</td>\n",
       "    </tr>\n",
       "    <tr>\n",
       "      <th>...</th>\n",
       "      <td>...</td>\n",
       "      <td>...</td>\n",
       "      <td>...</td>\n",
       "      <td>...</td>\n",
       "      <td>...</td>\n",
       "      <td>...</td>\n",
       "      <td>...</td>\n",
       "      <td>...</td>\n",
       "      <td>...</td>\n",
       "      <td>...</td>\n",
       "      <td>...</td>\n",
       "      <td>...</td>\n",
       "      <td>...</td>\n",
       "      <td>...</td>\n",
       "      <td>...</td>\n",
       "      <td>...</td>\n",
       "      <td>...</td>\n",
       "      <td>...</td>\n",
       "      <td>...</td>\n",
       "      <td>...</td>\n",
       "      <td>...</td>\n",
       "    </tr>\n",
       "    <tr>\n",
       "      <th>21575</th>\n",
       "      <td>3</td>\n",
       "      <td>12</td>\n",
       "      <td>9</td>\n",
       "      <td>0.0</td>\n",
       "      <td>46.0</td>\n",
       "      <td>71.0</td>\n",
       "      <td>0.0</td>\n",
       "      <td>0.0</td>\n",
       "      <td>0.0</td>\n",
       "      <td>0.0</td>\n",
       "      <td>...</td>\n",
       "      <td>255.0</td>\n",
       "      <td>254.0</td>\n",
       "      <td>1.00</td>\n",
       "      <td>0.01</td>\n",
       "      <td>0.00</td>\n",
       "      <td>0.00</td>\n",
       "      <td>0.0</td>\n",
       "      <td>0.0</td>\n",
       "      <td>0.0</td>\n",
       "      <td>0.0</td>\n",
       "    </tr>\n",
       "    <tr>\n",
       "      <th>5390</th>\n",
       "      <td>2</td>\n",
       "      <td>52</td>\n",
       "      <td>9</td>\n",
       "      <td>1.0</td>\n",
       "      <td>1601.0</td>\n",
       "      <td>326.0</td>\n",
       "      <td>0.0</td>\n",
       "      <td>0.0</td>\n",
       "      <td>0.0</td>\n",
       "      <td>0.0</td>\n",
       "      <td>...</td>\n",
       "      <td>92.0</td>\n",
       "      <td>52.0</td>\n",
       "      <td>0.57</td>\n",
       "      <td>0.05</td>\n",
       "      <td>0.01</td>\n",
       "      <td>0.00</td>\n",
       "      <td>0.0</td>\n",
       "      <td>0.0</td>\n",
       "      <td>0.0</td>\n",
       "      <td>0.0</td>\n",
       "    </tr>\n",
       "    <tr>\n",
       "      <th>860</th>\n",
       "      <td>2</td>\n",
       "      <td>23</td>\n",
       "      <td>1</td>\n",
       "      <td>0.0</td>\n",
       "      <td>0.0</td>\n",
       "      <td>0.0</td>\n",
       "      <td>0.0</td>\n",
       "      <td>0.0</td>\n",
       "      <td>0.0</td>\n",
       "      <td>0.0</td>\n",
       "      <td>...</td>\n",
       "      <td>255.0</td>\n",
       "      <td>6.0</td>\n",
       "      <td>0.02</td>\n",
       "      <td>0.07</td>\n",
       "      <td>0.00</td>\n",
       "      <td>0.00</td>\n",
       "      <td>0.0</td>\n",
       "      <td>0.0</td>\n",
       "      <td>1.0</td>\n",
       "      <td>1.0</td>\n",
       "    </tr>\n",
       "    <tr>\n",
       "      <th>15795</th>\n",
       "      <td>2</td>\n",
       "      <td>23</td>\n",
       "      <td>9</td>\n",
       "      <td>0.0</td>\n",
       "      <td>309.0</td>\n",
       "      <td>4281.0</td>\n",
       "      <td>0.0</td>\n",
       "      <td>0.0</td>\n",
       "      <td>0.0</td>\n",
       "      <td>0.0</td>\n",
       "      <td>...</td>\n",
       "      <td>21.0</td>\n",
       "      <td>255.0</td>\n",
       "      <td>1.00</td>\n",
       "      <td>0.00</td>\n",
       "      <td>0.05</td>\n",
       "      <td>0.05</td>\n",
       "      <td>0.0</td>\n",
       "      <td>0.0</td>\n",
       "      <td>0.0</td>\n",
       "      <td>0.0</td>\n",
       "    </tr>\n",
       "    <tr>\n",
       "      <th>23654</th>\n",
       "      <td>2</td>\n",
       "      <td>47</td>\n",
       "      <td>5</td>\n",
       "      <td>0.0</td>\n",
       "      <td>0.0</td>\n",
       "      <td>0.0</td>\n",
       "      <td>0.0</td>\n",
       "      <td>0.0</td>\n",
       "      <td>0.0</td>\n",
       "      <td>0.0</td>\n",
       "      <td>...</td>\n",
       "      <td>255.0</td>\n",
       "      <td>4.0</td>\n",
       "      <td>0.02</td>\n",
       "      <td>0.07</td>\n",
       "      <td>0.00</td>\n",
       "      <td>0.00</td>\n",
       "      <td>1.0</td>\n",
       "      <td>1.0</td>\n",
       "      <td>0.0</td>\n",
       "      <td>0.0</td>\n",
       "    </tr>\n",
       "  </tbody>\n",
       "</table>\n",
       "<p>17634 rows × 39 columns</p>\n",
       "</div>"
      ],
      "text/plain": [
       "       protocol_type  service  flag  duration  src_bytes  dst_bytes  land  \\\n",
       "741                2       47     5       0.0        0.0        0.0   0.0   \n",
       "411                2       17     2       0.0        0.0        0.0   0.0   \n",
       "17841              2        4     1       0.0        0.0        0.0   0.0   \n",
       "20962              1       14     9       0.0        8.0        0.0   0.0   \n",
       "17790              2       47     5       0.0        0.0        0.0   0.0   \n",
       "...              ...      ...   ...       ...        ...        ...   ...   \n",
       "21575              3       12     9       0.0       46.0       71.0   0.0   \n",
       "5390               2       52     9       1.0     1601.0      326.0   0.0   \n",
       "860                2       23     1       0.0        0.0        0.0   0.0   \n",
       "15795              2       23     9       0.0      309.0     4281.0   0.0   \n",
       "23654              2       47     5       0.0        0.0        0.0   0.0   \n",
       "\n",
       "       wrong_fragment  urgent  hot  ...  dst_host_count  dst_host_srv_count  \\\n",
       "741               0.0     0.0  0.0  ...           255.0                 1.0   \n",
       "411               0.0     0.0  0.0  ...           255.0                 4.0   \n",
       "17841             0.0     0.0  0.0  ...           255.0                14.0   \n",
       "20962             0.0     0.0  0.0  ...             2.0               152.0   \n",
       "17790             0.0     0.0  0.0  ...            94.0                 9.0   \n",
       "...               ...     ...  ...  ...             ...                 ...   \n",
       "21575             0.0     0.0  0.0  ...           255.0               254.0   \n",
       "5390              0.0     0.0  0.0  ...            92.0                52.0   \n",
       "860               0.0     0.0  0.0  ...           255.0                 6.0   \n",
       "15795             0.0     0.0  0.0  ...            21.0               255.0   \n",
       "23654             0.0     0.0  0.0  ...           255.0                 4.0   \n",
       "\n",
       "       dst_host_same_srv_rate  dst_host_diff_srv_rate  \\\n",
       "741                      0.00                    0.08   \n",
       "411                      0.02                    0.06   \n",
       "17841                    0.05                    0.07   \n",
       "20962                    1.00                    0.00   \n",
       "17790                    0.10                    0.12   \n",
       "...                       ...                     ...   \n",
       "21575                    1.00                    0.01   \n",
       "5390                     0.57                    0.05   \n",
       "860                      0.02                    0.07   \n",
       "15795                    1.00                    0.00   \n",
       "23654                    0.02                    0.07   \n",
       "\n",
       "       dst_host_same_src_port_rate  dst_host_srv_diff_host_rate  \\\n",
       "741                           0.00                         0.00   \n",
       "411                           0.00                         0.00   \n",
       "17841                         0.00                         0.00   \n",
       "20962                         1.00                         0.50   \n",
       "17790                         0.01                         0.00   \n",
       "...                            ...                          ...   \n",
       "21575                         0.00                         0.00   \n",
       "5390                          0.01                         0.00   \n",
       "860                           0.00                         0.00   \n",
       "15795                         0.05                         0.05   \n",
       "23654                         0.00                         0.00   \n",
       "\n",
       "       dst_host_serror_rate  dst_host_srv_serror_rate  dst_host_rerror_rate  \\\n",
       "741                     1.0                       1.0                   0.0   \n",
       "411                     0.0                       0.0                   1.0   \n",
       "17841                   0.0                       0.0                   1.0   \n",
       "20962                   0.0                       0.0                   0.0   \n",
       "17790                   1.0                       1.0                   0.0   \n",
       "...                     ...                       ...                   ...   \n",
       "21575                   0.0                       0.0                   0.0   \n",
       "5390                    0.0                       0.0                   0.0   \n",
       "860                     0.0                       0.0                   1.0   \n",
       "15795                   0.0                       0.0                   0.0   \n",
       "23654                   1.0                       1.0                   0.0   \n",
       "\n",
       "       dst_host_srv_rerror_rate  \n",
       "741                         0.0  \n",
       "411                         1.0  \n",
       "17841                       1.0  \n",
       "20962                       0.0  \n",
       "17790                       0.0  \n",
       "...                         ...  \n",
       "21575                       0.0  \n",
       "5390                        0.0  \n",
       "860                         1.0  \n",
       "15795                       0.0  \n",
       "23654                       0.0  \n",
       "\n",
       "[17634 rows x 39 columns]"
      ]
     },
     "execution_count": 24,
     "metadata": {},
     "output_type": "execute_result"
    }
   ],
   "source": [
    "X_train"
   ]
  },
  {
   "cell_type": "code",
   "execution_count": 25,
   "id": "83a75bd1",
   "metadata": {
    "execution": {
     "iopub.execute_input": "2022-03-20T09:19:19.964850Z",
     "iopub.status.busy": "2022-03-20T09:19:19.963690Z",
     "iopub.status.idle": "2022-03-20T09:19:20.003511Z",
     "shell.execute_reply": "2022-03-20T09:19:20.004026Z",
     "shell.execute_reply.started": "2022-03-20T08:24:10.902661Z"
    },
    "papermill": {
     "duration": 0.105121,
     "end_time": "2022-03-20T09:19:20.004239",
     "exception": false,
     "start_time": "2022-03-20T09:19:19.899118",
     "status": "completed"
    },
    "tags": []
   },
   "outputs": [
    {
     "data": {
      "text/html": [
       "<div>\n",
       "<style scoped>\n",
       "    .dataframe tbody tr th:only-of-type {\n",
       "        vertical-align: middle;\n",
       "    }\n",
       "\n",
       "    .dataframe tbody tr th {\n",
       "        vertical-align: top;\n",
       "    }\n",
       "\n",
       "    .dataframe thead th {\n",
       "        text-align: right;\n",
       "    }\n",
       "</style>\n",
       "<table border=\"1\" class=\"dataframe\">\n",
       "  <thead>\n",
       "    <tr style=\"text-align: right;\">\n",
       "      <th></th>\n",
       "      <th>protocol_type</th>\n",
       "      <th>service</th>\n",
       "      <th>flag</th>\n",
       "      <th>duration</th>\n",
       "      <th>src_bytes</th>\n",
       "      <th>dst_bytes</th>\n",
       "      <th>land</th>\n",
       "      <th>wrong_fragment</th>\n",
       "      <th>urgent</th>\n",
       "      <th>hot</th>\n",
       "      <th>...</th>\n",
       "      <th>dst_host_count</th>\n",
       "      <th>dst_host_srv_count</th>\n",
       "      <th>dst_host_same_srv_rate</th>\n",
       "      <th>dst_host_diff_srv_rate</th>\n",
       "      <th>dst_host_same_src_port_rate</th>\n",
       "      <th>dst_host_srv_diff_host_rate</th>\n",
       "      <th>dst_host_serror_rate</th>\n",
       "      <th>dst_host_srv_serror_rate</th>\n",
       "      <th>dst_host_rerror_rate</th>\n",
       "      <th>dst_host_srv_rerror_rate</th>\n",
       "    </tr>\n",
       "  </thead>\n",
       "  <tbody>\n",
       "    <tr>\n",
       "      <th>19064</th>\n",
       "      <td>1</td>\n",
       "      <td>15</td>\n",
       "      <td>9</td>\n",
       "      <td>0.0</td>\n",
       "      <td>1032.0</td>\n",
       "      <td>0.0</td>\n",
       "      <td>0.0</td>\n",
       "      <td>0.0</td>\n",
       "      <td>0.0</td>\n",
       "      <td>0.0</td>\n",
       "      <td>...</td>\n",
       "      <td>255.0</td>\n",
       "      <td>255.0</td>\n",
       "      <td>1.00</td>\n",
       "      <td>0.00</td>\n",
       "      <td>1.00</td>\n",
       "      <td>0.00</td>\n",
       "      <td>0.0</td>\n",
       "      <td>0.00</td>\n",
       "      <td>0.00</td>\n",
       "      <td>0.00</td>\n",
       "    </tr>\n",
       "    <tr>\n",
       "      <th>11127</th>\n",
       "      <td>2</td>\n",
       "      <td>23</td>\n",
       "      <td>1</td>\n",
       "      <td>0.0</td>\n",
       "      <td>0.0</td>\n",
       "      <td>0.0</td>\n",
       "      <td>0.0</td>\n",
       "      <td>0.0</td>\n",
       "      <td>0.0</td>\n",
       "      <td>0.0</td>\n",
       "      <td>...</td>\n",
       "      <td>43.0</td>\n",
       "      <td>129.0</td>\n",
       "      <td>1.00</td>\n",
       "      <td>0.00</td>\n",
       "      <td>0.02</td>\n",
       "      <td>0.15</td>\n",
       "      <td>0.0</td>\n",
       "      <td>0.01</td>\n",
       "      <td>0.93</td>\n",
       "      <td>0.87</td>\n",
       "    </tr>\n",
       "    <tr>\n",
       "      <th>6517</th>\n",
       "      <td>2</td>\n",
       "      <td>47</td>\n",
       "      <td>5</td>\n",
       "      <td>0.0</td>\n",
       "      <td>0.0</td>\n",
       "      <td>0.0</td>\n",
       "      <td>0.0</td>\n",
       "      <td>0.0</td>\n",
       "      <td>0.0</td>\n",
       "      <td>0.0</td>\n",
       "      <td>...</td>\n",
       "      <td>255.0</td>\n",
       "      <td>3.0</td>\n",
       "      <td>0.01</td>\n",
       "      <td>0.06</td>\n",
       "      <td>0.00</td>\n",
       "      <td>0.00</td>\n",
       "      <td>1.0</td>\n",
       "      <td>1.00</td>\n",
       "      <td>0.00</td>\n",
       "      <td>0.00</td>\n",
       "    </tr>\n",
       "    <tr>\n",
       "      <th>2973</th>\n",
       "      <td>3</td>\n",
       "      <td>12</td>\n",
       "      <td>9</td>\n",
       "      <td>0.0</td>\n",
       "      <td>45.0</td>\n",
       "      <td>114.0</td>\n",
       "      <td>0.0</td>\n",
       "      <td>0.0</td>\n",
       "      <td>0.0</td>\n",
       "      <td>0.0</td>\n",
       "      <td>...</td>\n",
       "      <td>27.0</td>\n",
       "      <td>12.0</td>\n",
       "      <td>0.44</td>\n",
       "      <td>0.11</td>\n",
       "      <td>0.04</td>\n",
       "      <td>0.00</td>\n",
       "      <td>0.0</td>\n",
       "      <td>0.00</td>\n",
       "      <td>0.00</td>\n",
       "      <td>0.00</td>\n",
       "    </tr>\n",
       "    <tr>\n",
       "      <th>13339</th>\n",
       "      <td>2</td>\n",
       "      <td>23</td>\n",
       "      <td>5</td>\n",
       "      <td>0.0</td>\n",
       "      <td>0.0</td>\n",
       "      <td>0.0</td>\n",
       "      <td>0.0</td>\n",
       "      <td>0.0</td>\n",
       "      <td>0.0</td>\n",
       "      <td>0.0</td>\n",
       "      <td>...</td>\n",
       "      <td>12.0</td>\n",
       "      <td>12.0</td>\n",
       "      <td>1.00</td>\n",
       "      <td>0.00</td>\n",
       "      <td>0.08</td>\n",
       "      <td>0.00</td>\n",
       "      <td>1.0</td>\n",
       "      <td>1.00</td>\n",
       "      <td>0.00</td>\n",
       "      <td>0.00</td>\n",
       "    </tr>\n",
       "    <tr>\n",
       "      <th>...</th>\n",
       "      <td>...</td>\n",
       "      <td>...</td>\n",
       "      <td>...</td>\n",
       "      <td>...</td>\n",
       "      <td>...</td>\n",
       "      <td>...</td>\n",
       "      <td>...</td>\n",
       "      <td>...</td>\n",
       "      <td>...</td>\n",
       "      <td>...</td>\n",
       "      <td>...</td>\n",
       "      <td>...</td>\n",
       "      <td>...</td>\n",
       "      <td>...</td>\n",
       "      <td>...</td>\n",
       "      <td>...</td>\n",
       "      <td>...</td>\n",
       "      <td>...</td>\n",
       "      <td>...</td>\n",
       "      <td>...</td>\n",
       "      <td>...</td>\n",
       "    </tr>\n",
       "    <tr>\n",
       "      <th>15322</th>\n",
       "      <td>2</td>\n",
       "      <td>47</td>\n",
       "      <td>1</td>\n",
       "      <td>0.0</td>\n",
       "      <td>0.0</td>\n",
       "      <td>0.0</td>\n",
       "      <td>0.0</td>\n",
       "      <td>0.0</td>\n",
       "      <td>0.0</td>\n",
       "      <td>0.0</td>\n",
       "      <td>...</td>\n",
       "      <td>255.0</td>\n",
       "      <td>9.0</td>\n",
       "      <td>0.04</td>\n",
       "      <td>0.07</td>\n",
       "      <td>0.00</td>\n",
       "      <td>0.00</td>\n",
       "      <td>0.0</td>\n",
       "      <td>0.00</td>\n",
       "      <td>1.00</td>\n",
       "      <td>1.00</td>\n",
       "    </tr>\n",
       "    <tr>\n",
       "      <th>24483</th>\n",
       "      <td>2</td>\n",
       "      <td>47</td>\n",
       "      <td>5</td>\n",
       "      <td>0.0</td>\n",
       "      <td>0.0</td>\n",
       "      <td>0.0</td>\n",
       "      <td>0.0</td>\n",
       "      <td>0.0</td>\n",
       "      <td>0.0</td>\n",
       "      <td>0.0</td>\n",
       "      <td>...</td>\n",
       "      <td>255.0</td>\n",
       "      <td>13.0</td>\n",
       "      <td>0.05</td>\n",
       "      <td>0.08</td>\n",
       "      <td>0.00</td>\n",
       "      <td>0.00</td>\n",
       "      <td>1.0</td>\n",
       "      <td>1.00</td>\n",
       "      <td>0.00</td>\n",
       "      <td>0.00</td>\n",
       "    </tr>\n",
       "    <tr>\n",
       "      <th>6778</th>\n",
       "      <td>3</td>\n",
       "      <td>47</td>\n",
       "      <td>9</td>\n",
       "      <td>0.0</td>\n",
       "      <td>105.0</td>\n",
       "      <td>147.0</td>\n",
       "      <td>0.0</td>\n",
       "      <td>0.0</td>\n",
       "      <td>0.0</td>\n",
       "      <td>0.0</td>\n",
       "      <td>...</td>\n",
       "      <td>255.0</td>\n",
       "      <td>249.0</td>\n",
       "      <td>0.98</td>\n",
       "      <td>0.01</td>\n",
       "      <td>0.02</td>\n",
       "      <td>0.00</td>\n",
       "      <td>0.0</td>\n",
       "      <td>0.00</td>\n",
       "      <td>0.00</td>\n",
       "      <td>0.00</td>\n",
       "    </tr>\n",
       "    <tr>\n",
       "      <th>9500</th>\n",
       "      <td>2</td>\n",
       "      <td>34</td>\n",
       "      <td>5</td>\n",
       "      <td>0.0</td>\n",
       "      <td>0.0</td>\n",
       "      <td>0.0</td>\n",
       "      <td>0.0</td>\n",
       "      <td>0.0</td>\n",
       "      <td>0.0</td>\n",
       "      <td>0.0</td>\n",
       "      <td>...</td>\n",
       "      <td>255.0</td>\n",
       "      <td>3.0</td>\n",
       "      <td>0.01</td>\n",
       "      <td>0.07</td>\n",
       "      <td>0.00</td>\n",
       "      <td>0.00</td>\n",
       "      <td>1.0</td>\n",
       "      <td>1.00</td>\n",
       "      <td>0.00</td>\n",
       "      <td>0.00</td>\n",
       "    </tr>\n",
       "    <tr>\n",
       "      <th>19865</th>\n",
       "      <td>2</td>\n",
       "      <td>3</td>\n",
       "      <td>5</td>\n",
       "      <td>0.0</td>\n",
       "      <td>0.0</td>\n",
       "      <td>0.0</td>\n",
       "      <td>0.0</td>\n",
       "      <td>0.0</td>\n",
       "      <td>0.0</td>\n",
       "      <td>0.0</td>\n",
       "      <td>...</td>\n",
       "      <td>255.0</td>\n",
       "      <td>12.0</td>\n",
       "      <td>0.05</td>\n",
       "      <td>0.07</td>\n",
       "      <td>0.00</td>\n",
       "      <td>0.00</td>\n",
       "      <td>1.0</td>\n",
       "      <td>1.00</td>\n",
       "      <td>0.00</td>\n",
       "      <td>0.00</td>\n",
       "    </tr>\n",
       "  </tbody>\n",
       "</table>\n",
       "<p>7558 rows × 39 columns</p>\n",
       "</div>"
      ],
      "text/plain": [
       "       protocol_type  service  flag  duration  src_bytes  dst_bytes  land  \\\n",
       "19064              1       15     9       0.0     1032.0        0.0   0.0   \n",
       "11127              2       23     1       0.0        0.0        0.0   0.0   \n",
       "6517               2       47     5       0.0        0.0        0.0   0.0   \n",
       "2973               3       12     9       0.0       45.0      114.0   0.0   \n",
       "13339              2       23     5       0.0        0.0        0.0   0.0   \n",
       "...              ...      ...   ...       ...        ...        ...   ...   \n",
       "15322              2       47     1       0.0        0.0        0.0   0.0   \n",
       "24483              2       47     5       0.0        0.0        0.0   0.0   \n",
       "6778               3       47     9       0.0      105.0      147.0   0.0   \n",
       "9500               2       34     5       0.0        0.0        0.0   0.0   \n",
       "19865              2        3     5       0.0        0.0        0.0   0.0   \n",
       "\n",
       "       wrong_fragment  urgent  hot  ...  dst_host_count  dst_host_srv_count  \\\n",
       "19064             0.0     0.0  0.0  ...           255.0               255.0   \n",
       "11127             0.0     0.0  0.0  ...            43.0               129.0   \n",
       "6517              0.0     0.0  0.0  ...           255.0                 3.0   \n",
       "2973              0.0     0.0  0.0  ...            27.0                12.0   \n",
       "13339             0.0     0.0  0.0  ...            12.0                12.0   \n",
       "...               ...     ...  ...  ...             ...                 ...   \n",
       "15322             0.0     0.0  0.0  ...           255.0                 9.0   \n",
       "24483             0.0     0.0  0.0  ...           255.0                13.0   \n",
       "6778              0.0     0.0  0.0  ...           255.0               249.0   \n",
       "9500              0.0     0.0  0.0  ...           255.0                 3.0   \n",
       "19865             0.0     0.0  0.0  ...           255.0                12.0   \n",
       "\n",
       "       dst_host_same_srv_rate  dst_host_diff_srv_rate  \\\n",
       "19064                    1.00                    0.00   \n",
       "11127                    1.00                    0.00   \n",
       "6517                     0.01                    0.06   \n",
       "2973                     0.44                    0.11   \n",
       "13339                    1.00                    0.00   \n",
       "...                       ...                     ...   \n",
       "15322                    0.04                    0.07   \n",
       "24483                    0.05                    0.08   \n",
       "6778                     0.98                    0.01   \n",
       "9500                     0.01                    0.07   \n",
       "19865                    0.05                    0.07   \n",
       "\n",
       "       dst_host_same_src_port_rate  dst_host_srv_diff_host_rate  \\\n",
       "19064                         1.00                         0.00   \n",
       "11127                         0.02                         0.15   \n",
       "6517                          0.00                         0.00   \n",
       "2973                          0.04                         0.00   \n",
       "13339                         0.08                         0.00   \n",
       "...                            ...                          ...   \n",
       "15322                         0.00                         0.00   \n",
       "24483                         0.00                         0.00   \n",
       "6778                          0.02                         0.00   \n",
       "9500                          0.00                         0.00   \n",
       "19865                         0.00                         0.00   \n",
       "\n",
       "       dst_host_serror_rate  dst_host_srv_serror_rate  dst_host_rerror_rate  \\\n",
       "19064                   0.0                      0.00                  0.00   \n",
       "11127                   0.0                      0.01                  0.93   \n",
       "6517                    1.0                      1.00                  0.00   \n",
       "2973                    0.0                      0.00                  0.00   \n",
       "13339                   1.0                      1.00                  0.00   \n",
       "...                     ...                       ...                   ...   \n",
       "15322                   0.0                      0.00                  1.00   \n",
       "24483                   1.0                      1.00                  0.00   \n",
       "6778                    0.0                      0.00                  0.00   \n",
       "9500                    1.0                      1.00                  0.00   \n",
       "19865                   1.0                      1.00                  0.00   \n",
       "\n",
       "       dst_host_srv_rerror_rate  \n",
       "19064                      0.00  \n",
       "11127                      0.87  \n",
       "6517                       0.00  \n",
       "2973                       0.00  \n",
       "13339                      0.00  \n",
       "...                         ...  \n",
       "15322                      1.00  \n",
       "24483                      0.00  \n",
       "6778                       0.00  \n",
       "9500                       0.00  \n",
       "19865                      0.00  \n",
       "\n",
       "[7558 rows x 39 columns]"
      ]
     },
     "execution_count": 25,
     "metadata": {},
     "output_type": "execute_result"
    }
   ],
   "source": [
    "X_test"
   ]
  },
  {
   "cell_type": "code",
   "execution_count": 26,
   "id": "e05ece92",
   "metadata": {
    "execution": {
     "iopub.execute_input": "2022-03-20T09:19:20.129075Z",
     "iopub.status.busy": "2022-03-20T09:19:20.127967Z",
     "iopub.status.idle": "2022-03-20T09:19:20.135073Z",
     "shell.execute_reply": "2022-03-20T09:19:20.135641Z",
     "shell.execute_reply.started": "2022-03-20T08:24:10.952428Z"
    },
    "papermill": {
     "duration": 0.072616,
     "end_time": "2022-03-20T09:19:20.135822",
     "exception": false,
     "start_time": "2022-03-20T09:19:20.063206",
     "status": "completed"
    },
    "tags": []
   },
   "outputs": [
    {
     "data": {
      "text/plain": [
       "741      0\n",
       "411      0\n",
       "17841    0\n",
       "20962    0\n",
       "17790    0\n",
       "        ..\n",
       "21575    1\n",
       "5390     1\n",
       "860      0\n",
       "15795    1\n",
       "23654    0\n",
       "Length: 17634, dtype: int64"
      ]
     },
     "execution_count": 26,
     "metadata": {},
     "output_type": "execute_result"
    }
   ],
   "source": [
    "y_train"
   ]
  },
  {
   "cell_type": "code",
   "execution_count": 27,
   "id": "4cff3315",
   "metadata": {
    "execution": {
     "iopub.execute_input": "2022-03-20T09:19:20.270093Z",
     "iopub.status.busy": "2022-03-20T09:19:20.269318Z",
     "iopub.status.idle": "2022-03-20T09:19:20.272976Z",
     "shell.execute_reply": "2022-03-20T09:19:20.272302Z",
     "shell.execute_reply.started": "2022-03-20T08:24:10.96147Z"
    },
    "papermill": {
     "duration": 0.074554,
     "end_time": "2022-03-20T09:19:20.273157",
     "exception": false,
     "start_time": "2022-03-20T09:19:20.198603",
     "status": "completed"
    },
    "tags": []
   },
   "outputs": [
    {
     "data": {
      "text/plain": [
       "19064    0\n",
       "11127    1\n",
       "6517     0\n",
       "2973     1\n",
       "13339    0\n",
       "        ..\n",
       "15322    0\n",
       "24483    0\n",
       "6778     1\n",
       "9500     0\n",
       "19865    0\n",
       "Length: 7558, dtype: int64"
      ]
     },
     "execution_count": 27,
     "metadata": {},
     "output_type": "execute_result"
    }
   ],
   "source": [
    "y_test"
   ]
  },
  {
   "cell_type": "markdown",
   "id": "16270123",
   "metadata": {
    "papermill": {
     "duration": 0.062574,
     "end_time": "2022-03-20T09:19:20.396697",
     "exception": false,
     "start_time": "2022-03-20T09:19:20.334123",
     "status": "completed"
    },
    "tags": []
   },
   "source": [
    "**Feature scaling**"
   ]
  },
  {
   "cell_type": "code",
   "execution_count": 28,
   "id": "9c2c70a1",
   "metadata": {
    "execution": {
     "iopub.execute_input": "2022-03-20T09:19:20.531398Z",
     "iopub.status.busy": "2022-03-20T09:19:20.530699Z",
     "iopub.status.idle": "2022-03-20T09:19:20.561774Z",
     "shell.execute_reply": "2022-03-20T09:19:20.561030Z",
     "shell.execute_reply.started": "2022-03-20T08:24:10.978641Z"
    },
    "papermill": {
     "duration": 0.102799,
     "end_time": "2022-03-20T09:19:20.561935",
     "exception": false,
     "start_time": "2022-03-20T09:19:20.459136",
     "status": "completed"
    },
    "tags": []
   },
   "outputs": [],
   "source": [
    "from sklearn.preprocessing import StandardScaler\n",
    "scaler = StandardScaler()\n",
    "\n",
    "cols = X_train.columns\n",
    "\n",
    "X_train_scaled = scaler.fit_transform(X_train)\n",
    "X_test_scaled = scaler.transform(X_test)\n",
    "\n",
    "X_train_scaled = pd.DataFrame(X_train_scaled, columns = cols)\n",
    "X_test_scaled = pd.DataFrame(X_test_scaled, columns = cols)"
   ]
  },
  {
   "cell_type": "markdown",
   "id": "a276c5d4",
   "metadata": {
    "papermill": {
     "duration": 0.061149,
     "end_time": "2022-03-20T09:19:20.683942",
     "exception": false,
     "start_time": "2022-03-20T09:19:20.622793",
     "status": "completed"
    },
    "tags": []
   },
   "source": [
    "**Feature Selection**"
   ]
  },
  {
   "cell_type": "code",
   "execution_count": 31,
   "id": "3cf82659",
   "metadata": {
    "execution": {
     "iopub.execute_input": "2022-03-20T09:19:20.807852Z",
     "iopub.status.busy": "2022-03-20T09:19:20.805012Z",
     "iopub.status.idle": "2022-03-20T09:19:22.255724Z",
     "shell.execute_reply": "2022-03-20T09:19:22.255120Z",
     "shell.execute_reply.started": "2022-03-20T08:24:11.01588Z"
    },
    "papermill": {
     "duration": 1.512867,
     "end_time": "2022-03-20T09:19:22.255875",
     "exception": false,
     "start_time": "2022-03-20T09:19:20.743008",
     "status": "completed"
    },
    "tags": []
   },
   "outputs": [
    {
     "data": {
      "text/html": [
       "<div>\n",
       "<style scoped>\n",
       "    .dataframe tbody tr th:only-of-type {\n",
       "        vertical-align: middle;\n",
       "    }\n",
       "\n",
       "    .dataframe tbody tr th {\n",
       "        vertical-align: top;\n",
       "    }\n",
       "\n",
       "    .dataframe thead th {\n",
       "        text-align: right;\n",
       "    }\n",
       "</style>\n",
       "<table border=\"1\" class=\"dataframe\">\n",
       "  <thead>\n",
       "    <tr style=\"text-align: right;\">\n",
       "      <th></th>\n",
       "      <th>importance</th>\n",
       "    </tr>\n",
       "    <tr>\n",
       "      <th>feature</th>\n",
       "      <th></th>\n",
       "    </tr>\n",
       "  </thead>\n",
       "  <tbody>\n",
       "    <tr>\n",
       "      <th>src_bytes</th>\n",
       "      <td>0.176242</td>\n",
       "    </tr>\n",
       "    <tr>\n",
       "      <th>dst_bytes</th>\n",
       "      <td>0.130507</td>\n",
       "    </tr>\n",
       "    <tr>\n",
       "      <th>flag</th>\n",
       "      <td>0.085616</td>\n",
       "    </tr>\n",
       "    <tr>\n",
       "      <th>same_srv_rate</th>\n",
       "      <td>0.066088</td>\n",
       "    </tr>\n",
       "    <tr>\n",
       "      <th>dst_host_same_srv_rate</th>\n",
       "      <td>0.059570</td>\n",
       "    </tr>\n",
       "  </tbody>\n",
       "</table>\n",
       "</div>"
      ],
      "text/plain": [
       "                        importance\n",
       "feature                           \n",
       "src_bytes                 0.176242\n",
       "dst_bytes                 0.130507\n",
       "flag                      0.085616\n",
       "same_srv_rate             0.066088\n",
       "dst_host_same_srv_rate    0.059570"
      ]
     },
     "execution_count": 31,
     "metadata": {},
     "output_type": "execute_result"
    }
   ],
   "source": [
    "from sklearn.ensemble import RandomForestClassifier\n",
    "rfc = RandomForestClassifier();\n",
    "\n",
    "rfc.fit(X_train_scaled, y_train)\n",
    "\n",
    "feature_imp = pd.DataFrame({'feature':X_train.columns,'importance':rfc.feature_importances_})\n",
    "feature_imp = feature_imp.sort_values('importance',ascending=False).set_index('feature')\n",
    "feature_imp.head()"
   ]
  },
  {
   "cell_type": "markdown",
   "id": "9742f591",
   "metadata": {
    "papermill": {
     "duration": 0.060005,
     "end_time": "2022-03-20T09:19:22.376528",
     "exception": false,
     "start_time": "2022-03-20T09:19:22.316523",
     "status": "completed"
    },
    "tags": []
   },
   "source": [
    "**Visualization of the Feature Importance**"
   ]
  },
  {
   "cell_type": "code",
   "execution_count": 32,
   "id": "c846581e",
   "metadata": {
    "execution": {
     "iopub.execute_input": "2022-03-20T09:19:22.505745Z",
     "iopub.status.busy": "2022-03-20T09:19:22.504720Z",
     "iopub.status.idle": "2022-03-20T09:19:22.935277Z",
     "shell.execute_reply": "2022-03-20T09:19:22.935811Z",
     "shell.execute_reply.started": "2022-03-20T08:24:12.401493Z"
    },
    "papermill": {
     "duration": 0.493776,
     "end_time": "2022-03-20T09:19:22.936004",
     "exception": false,
     "start_time": "2022-03-20T09:19:22.442228",
     "status": "completed"
    },
    "tags": []
   },
   "outputs": [
    {
     "data": {
      "text/plain": [
       "[<matplotlib.lines.Line2D at 0x15499b3a0>]"
      ]
     },
     "execution_count": 32,
     "metadata": {},
     "output_type": "execute_result"
    },
    {
     "data": {
      "image/png": "[encoded data removed]",
      "text/plain": [
       "<Figure size 720x360 with 1 Axes>"
      ]
     },
     "metadata": {
      "needs_background": "light"
     },
     "output_type": "display_data"
    }
   ],
   "source": [
    "# plot feat_imp\n",
    "plt.figure(figsize = (10, 5))\n",
    "plt.title(\"Feature Importance\")\n",
    "plt.ylabel(\"Importances\")\n",
    "plt.xlabel(\"Features\")\n",
    "plt.xticks(rotation=90)\n",
    "plt.plot(feature_imp)"
   ]
  },
  {
   "cell_type": "markdown",
   "id": "c52b95b2",
   "metadata": {
    "papermill": {
     "duration": 0.060479,
     "end_time": "2022-03-20T09:19:23.058235",
     "exception": false,
     "start_time": "2022-03-20T09:19:22.997756",
     "status": "completed"
    },
    "tags": []
   },
   "source": [
    "**Using recursive feature elimination for Feature Selection**\n",
    "\n",
    "This process selects features by recursively considering smaller and smaller sets of features. First, the estimator is trained on the initial set of features and the importance of each feature is obtained either through any specific attribute or callable. Then, the least important features are pruned from current set of features. That procedure is recursively repeated on the pruned set until the desired number of features to select is eventually reached."
   ]
  },
  {
   "cell_type": "code",
   "execution_count": 47,
   "id": "58233e0a",
   "metadata": {
    "execution": {
     "iopub.execute_input": "2022-03-20T09:19:23.183999Z",
     "iopub.status.busy": "2022-03-20T09:19:23.183006Z",
     "iopub.status.idle": "2022-03-20T09:19:50.909863Z",
     "shell.execute_reply": "2022-03-20T09:19:50.909247Z",
     "shell.execute_reply.started": "2022-03-20T08:24:13.033859Z"
    },
    "papermill": {
     "duration": 27.791093,
     "end_time": "2022-03-20T09:19:50.910015",
     "exception": false,
     "start_time": "2022-03-20T09:19:23.118922",
     "status": "completed"
    },
    "tags": []
   },
   "outputs": [],
   "source": [
    "from sklearn.feature_selection import RFE\n",
    "estimator = RandomForestClassifier()\n",
    "selector = RFE(estimator)\n",
    "selector.fit(X_train_scaled, y_train)\n",
    "X_train_scaled = selector.transform(X_train_scaled)\n",
    "X_test_scaled = selector.transform(X_test_scaled)"
   ]
  },
  {
   "cell_type": "markdown",
   "id": "a193fe49",
   "metadata": {
    "papermill": {
     "duration": 0.062099,
     "end_time": "2022-03-20T09:19:51.034468",
     "exception": false,
     "start_time": "2022-03-20T09:19:50.972369",
     "status": "completed"
    },
    "tags": []
   },
   "source": [
    "### Determining the most optimal model"
   ]
  },
  {
   "cell_type": "markdown",
   "id": "b7fa0fd6",
   "metadata": {},
   "source": [
    "* Here, we choose the right models that can be used for the required task.\n",
    "* Our task required us to use a Classification model.\n",
    "* We selected 2 State of the art models - LightGBM and XGBoost\n",
    "* We also selected a few standard models to compare the results and establish a good baseline performance metric. Logistic Regression, SVC, Naive Bayes models were used for this purpose."
   ]
  },
  {
   "cell_type": "code",
   "execution_count": 60,
   "id": "69219fee",
   "metadata": {
    "execution": {
     "iopub.execute_input": "2022-03-20T09:19:51.166609Z",
     "iopub.status.busy": "2022-03-20T09:19:51.165900Z",
     "iopub.status.idle": "2022-03-20T09:19:52.278056Z",
     "shell.execute_reply": "2022-03-20T09:19:52.277486Z",
     "shell.execute_reply.started": "2022-03-20T08:24:41.412664Z"
    },
    "papermill": {
     "duration": 1.180676,
     "end_time": "2022-03-20T09:19:52.278214",
     "exception": false,
     "start_time": "2022-03-20T09:19:51.097538",
     "status": "completed"
    },
    "tags": []
   },
   "outputs": [],
   "source": [
    "from sklearn.svm import SVC\n",
    "from sklearn.linear_model import LogisticRegression\n",
    "from sklearn.naive_bayes import BernoulliNB\n",
    "from xgboost import XGBClassifier\n",
    "from lightgbm import LGBMClassifier\n",
    "\n",
    "# SEED FOR RANDOM STATE\n",
    "SEED = 42\n",
    "\n",
    "# SVC MODEL\n",
    "svc = SVC(random_state = SEED)\n",
    "\n",
    "# LOGISTIC REGRESSION MODEL\n",
    "lr = LogisticRegression()\n",
    "\n",
    "# GAUSSIAN NAIVE BAYES\n",
    "bnb = BernoulliNB()\n",
    "\n",
    "# Train XGBOOST Classifier\n",
    "xgbc = XGBClassifier(eval_metric=\"logloss\", random_state=SEED)\n",
    "\n",
    "# Train LightGBM Classifier\n",
    "lgbmc = LGBMClassifier(random_state=SEED)\n"
   ]
  },
  {
   "cell_type": "markdown",
   "id": "6bbbe262",
   "metadata": {
    "papermill": {
     "duration": 0.061674,
     "end_time": "2022-03-20T09:19:52.402747",
     "exception": false,
     "start_time": "2022-03-20T09:19:52.341073",
     "status": "completed"
    },
    "tags": []
   },
   "source": [
    "**Model testing on validation data**\n",
    "\n",
    "* The cross_val_score function is used to perform the evaluation, taking the dataset and cross-validation configuration and returning a list of scores calculated for each fold.\n",
    "\n",
    "* The model was trained on the training data which took a few minutes for each model."
   ]
  },
  {
   "cell_type": "code",
   "execution_count": 61,
   "id": "6f3167d9",
   "metadata": {
    "execution": {
     "iopub.execute_input": "2022-03-20T09:19:52.534294Z",
     "iopub.status.busy": "2022-03-20T09:19:52.533203Z",
     "iopub.status.idle": "2022-03-20T09:20:47.710602Z",
     "shell.execute_reply": "2022-03-20T09:20:47.711221Z",
     "shell.execute_reply.started": "2022-03-20T08:24:41.420695Z"
    },
    "papermill": {
     "duration": 55.247373,
     "end_time": "2022-03-20T09:20:47.711455",
     "exception": false,
     "start_time": "2022-03-20T09:19:52.464082",
     "status": "completed"
    },
    "tags": []
   },
   "outputs": [],
   "source": [
    "from sklearn.model_selection import cross_val_score\n",
    "from sklearn.model_selection import KFold\n",
    "models = {}\n",
    "models['SVC']= svc\n",
    "models['LogisticRegression']= lr\n",
    "models['Naive Bayes Classifier']= bnb\n",
    "models['XGBoost Classifier']= xgbc\n",
    "models['LightGBM Classifier']= lgbmc\n",
    "scores = {}\n",
    "cv = KFold(n_splits=10, random_state=1, shuffle=True)\n",
    "for name in models:\n",
    "  scores[name]={}\n",
    "  for scorer in ['precision','recall']:\n",
    "    scores[name][scorer] = cross_val_score(models[name], X_train_scaled, y_train, cv=cv, scoring=scorer)"
   ]
  },
  {
   "cell_type": "code",
   "execution_count": 62,
   "id": "68c7c914",
   "metadata": {
    "execution": {
     "iopub.execute_input": "2022-03-20T09:20:47.847922Z",
     "iopub.status.busy": "2022-03-20T09:20:47.846856Z",
     "iopub.status.idle": "2022-03-20T09:20:47.864434Z",
     "shell.execute_reply": "2022-03-20T09:20:47.863488Z",
     "shell.execute_reply.started": "2022-03-20T08:25:37.207726Z"
    },
    "papermill": {
     "duration": 0.089542,
     "end_time": "2022-03-20T09:20:47.864635",
     "exception": false,
     "start_time": "2022-03-20T09:20:47.775093",
     "status": "completed"
    },
    "tags": []
   },
   "outputs": [
    {
     "name": "stdout",
     "output_type": "stream",
     "text": [
      " SVC Model Validation \n",
      "Mean precision: \n",
      " 94.76 % +- 0.72\n",
      "\n",
      "Mean recall: \n",
      " 96.18 % +- 0.61\n",
      "\n",
      " LogisticRegression Model Validation \n",
      "Mean precision: \n",
      " 91.42 % +- 0.49\n",
      "\n",
      "Mean recall: \n",
      " 92.59 % +- 0.97\n",
      "\n",
      " Naive Bayes Classifier Model Validation \n",
      "Mean precision: \n",
      " 86.04 % +- 0.83\n",
      "\n",
      "Mean recall: \n",
      " 95.19 % +- 0.53\n",
      "\n",
      " XGBoost Classifier Model Validation \n",
      "Mean precision: \n",
      " 99.5 % +- 0.23\n",
      "\n",
      "Mean recall: \n",
      " 99.66 % +- 0.17\n",
      "\n",
      " LightGBM Classifier Model Validation \n",
      "Mean precision: \n",
      " 99.42 % +- 0.3\n",
      "\n",
      "Mean recall: \n",
      " 99.68 % +- 0.2\n",
      "\n"
     ]
    }
   ],
   "source": [
    "def diff(name):\n",
    "  return ''*(25-len(name)//2)\n",
    "\n",
    "for name in models:\n",
    "  print(diff(name), name, 'Model Validation', diff(name))\n",
    "\n",
    "  for scorer in ['precision','recall']:\n",
    "    mean = round(np.mean(scores[name][scorer])*100,2)\n",
    "    stdev = round(np.std(scores[name][scorer])*100,2)\n",
    "    print (\"Mean {}:\".format(scorer),\"\\n\", mean,\"%\", \"+-\",stdev)\n",
    "    print()"
   ]
  },
  {
   "attachments": {
    "4bc3b697-b56c-425b-b38f-4a5b1762c03b.png": {
     "image/png": "[encoded data removed]"
    }
   },
   "cell_type": "markdown",
   "id": "8b7ea60f",
   "metadata": {
    "papermill": {
     "duration": 0.062269,
     "end_time": "2022-03-20T09:20:47.990408",
     "exception": false,
     "start_time": "2022-03-20T09:20:47.928139",
     "status": "completed"
    },
    "tags": []
   },
   "source": [
    "Though SVC classifier displayed good performance, but from the above results, we can observe that our model XGBoost Classifier and LightGBM Classifier perform the best on the validation data.\n",
    "\n",
    "The evaluation metrics used are:\n",
    "\n",
    "* Precision: also called positive predictive value, is the fraction of correct positive predictions among all the positive predictions.\n",
    "\n",
    "* Recall: also known as sensitivity, is the fraction of correct positive predictions that were correct positives.\n",
    "\n",
    "Precision and Recall can be calculated by:\n",
    "\n",
    "\n",
    "   ![image.png](attachment:4bc3b697-b56c-425b-b38f-4a5b1762c03b.png)"
   ]
  },
  {
   "cell_type": "code",
   "execution_count": 63,
   "id": "7871b018",
   "metadata": {
    "execution": {
     "iopub.execute_input": "2022-03-20T09:20:48.122608Z",
     "iopub.status.busy": "2022-03-20T09:20:48.121936Z",
     "iopub.status.idle": "2022-03-20T09:20:48.125116Z",
     "shell.execute_reply": "2022-03-20T09:20:48.125570Z",
     "shell.execute_reply.started": "2022-03-20T08:25:37.237643Z"
    },
    "papermill": {
     "duration": 0.072763,
     "end_time": "2022-03-20T09:20:48.125746",
     "exception": false,
     "start_time": "2022-03-20T09:20:48.052983",
     "status": "completed"
    },
    "tags": []
   },
   "outputs": [],
   "source": [
    "for name in models:\n",
    "    for scorer in ['precision','recall']:\n",
    "        scores[name][scorer] = scores[name][scorer].mean()\n",
    "scores=pd.DataFrame(scores).swapaxes(\"index\", \"columns\")*100"
   ]
  },
  {
   "cell_type": "code",
   "execution_count": 64,
   "id": "1d295f4a",
   "metadata": {
    "execution": {
     "iopub.execute_input": "2022-03-20T09:20:48.255239Z",
     "iopub.status.busy": "2022-03-20T09:20:48.254583Z",
     "iopub.status.idle": "2022-03-20T09:20:48.552308Z",
     "shell.execute_reply": "2022-03-20T09:20:48.552801Z",
     "shell.execute_reply.started": "2022-03-20T08:25:37.250467Z"
    },
    "papermill": {
     "duration": 0.365109,
     "end_time": "2022-03-20T09:20:48.552970",
     "exception": false,
     "start_time": "2022-03-20T09:20:48.187861",
     "status": "completed"
    },
    "tags": []
   },
   "outputs": [
    {
     "data": {
      "text/plain": [
       "<AxesSubplot:>"
      ]
     },
     "execution_count": 64,
     "metadata": {},
     "output_type": "execute_result"
    },
    {
     "data": {
      "image/png": "[encoded data removed]",
      "text/plain": [
       "<Figure size 720x432 with 1 Axes>"
      ]
     },
     "metadata": {
      "needs_background": "light"
     },
     "output_type": "display_data"
    }
   ],
   "source": [
    "scores.plot(kind = \"bar\",  ylim=[80,100], figsize=(10,6), rot=0)"
   ]
  },
  {
   "cell_type": "markdown",
   "id": "044e07c5",
   "metadata": {},
   "source": [
    "**Parameter Tuning**\n",
    "* A model needs to be \"tuned\" for each particular scenario/ usecase based on the dataset.\n",
    "* This includes changing various parameters and evaluating the results simulaneously.\n",
    "\n",
    "**Making Predictions**\n",
    "* After the model parameters are finalized and it is trained, it can be saved and used for making predictions."
   ]
  },
  {
   "cell_type": "code",
   "execution_count": 65,
   "id": "f5b60c03",
   "metadata": {
    "execution": {
     "iopub.execute_input": "2022-03-20T09:20:48.686699Z",
     "iopub.status.busy": "2022-03-20T09:20:48.685933Z",
     "iopub.status.idle": "2022-03-20T09:20:52.213113Z",
     "shell.execute_reply": "2022-03-20T09:20:52.214185Z",
     "shell.execute_reply.started": "2022-03-20T08:25:37.554547Z"
    },
    "papermill": {
     "duration": 3.598535,
     "end_time": "2022-03-20T09:20:52.214548",
     "exception": false,
     "start_time": "2022-03-20T09:20:48.616013",
     "status": "completed"
    },
    "tags": []
   },
   "outputs": [
    {
     "name": "stdout",
     "output_type": "stream",
     "text": [
      "Predictions complete.\n"
     ]
    }
   ],
   "source": [
    "models = {}\n",
    "models['SVC']= svc\n",
    "models['LogisticRegression']= lr\n",
    "models['Naive Bayes Classifier']= bnb\n",
    "models['XGBoost Classifier']= xgbc\n",
    "models['LightGBM Classifier']= lgbmc\n",
    "preds={}\n",
    "for name in models:\n",
    "    models[name].fit(X_train_scaled, y_train)\n",
    "    preds[name] = models[name].predict(X_test_scaled)\n",
    "print(\"Predictions complete.\")"
   ]
  },
  {
   "cell_type": "code",
   "execution_count": 67,
   "id": "b170874e",
   "metadata": {
    "execution": {
     "iopub.execute_input": "2022-03-20T09:20:52.353151Z",
     "iopub.status.busy": "2022-03-20T09:20:52.352335Z",
     "iopub.status.idle": "2022-03-20T09:20:52.497278Z",
     "shell.execute_reply": "2022-03-20T09:20:52.496527Z",
     "shell.execute_reply.started": "2022-03-20T08:25:41.012093Z"
    },
    "papermill": {
     "duration": 0.217023,
     "end_time": "2022-03-20T09:20:52.497448",
     "exception": false,
     "start_time": "2022-03-20T09:20:52.280425",
     "status": "completed"
    },
    "tags": []
   },
   "outputs": [
    {
     "name": "stdout",
     "output_type": "stream",
     "text": [
      " SVC Model Testing \n",
      "[[3331  185]\n",
      " [ 156 3886]]\n",
      "\n",
      "              precision    recall  f1-score   support\n",
      "\n",
      "      normal       0.96      0.95      0.95      3516\n",
      "     anamoly       0.95      0.96      0.96      4042\n",
      "\n",
      "    accuracy                           0.95      7558\n",
      "   macro avg       0.95      0.95      0.95      7558\n",
      "weighted avg       0.95      0.95      0.95      7558\n",
      "\n",
      " LogisticRegression Model Testing \n",
      "[[3177  339]\n",
      " [ 282 3760]]\n",
      "\n",
      "              precision    recall  f1-score   support\n",
      "\n",
      "      normal       0.92      0.90      0.91      3516\n",
      "     anamoly       0.92      0.93      0.92      4042\n",
      "\n",
      "    accuracy                           0.92      7558\n",
      "   macro avg       0.92      0.92      0.92      7558\n",
      "weighted avg       0.92      0.92      0.92      7558\n",
      "\n",
      " Naive Bayes Classifier Model Testing \n",
      "[[2939  577]\n",
      " [ 177 3865]]\n",
      "\n",
      "              precision    recall  f1-score   support\n",
      "\n",
      "      normal       0.94      0.84      0.89      3516\n",
      "     anamoly       0.87      0.96      0.91      4042\n",
      "\n",
      "    accuracy                           0.90      7558\n",
      "   macro avg       0.91      0.90      0.90      7558\n",
      "weighted avg       0.90      0.90      0.90      7558\n",
      "\n",
      " XGBoost Classifier Model Testing \n",
      "[[3500   16]\n",
      " [  11 4031]]\n",
      "\n",
      "              precision    recall  f1-score   support\n",
      "\n",
      "      normal       1.00      1.00      1.00      3516\n",
      "     anamoly       1.00      1.00      1.00      4042\n",
      "\n",
      "    accuracy                           1.00      7558\n",
      "   macro avg       1.00      1.00      1.00      7558\n",
      "weighted avg       1.00      1.00      1.00      7558\n",
      "\n",
      " LightGBM Classifier Model Testing \n",
      "[[3503   13]\n",
      " [   8 4034]]\n",
      "\n",
      "              precision    recall  f1-score   support\n",
      "\n",
      "      normal       1.00      1.00      1.00      3516\n",
      "     anamoly       1.00      1.00      1.00      4042\n",
      "\n",
      "    accuracy                           1.00      7558\n",
      "   macro avg       1.00      1.00      1.00      7558\n",
      "weighted avg       1.00      1.00      1.00      7558\n",
      "\n"
     ]
    }
   ],
   "source": [
    "from sklearn.metrics import confusion_matrix, classification_report, f1_score\n",
    "\n",
    "target_names=[\"normal\",\"anamoly\"]\n",
    "for name in models:\n",
    "    print(diff(name), name, 'Model Testing', diff(name))\n",
    "    print(confusion_matrix(y_test, preds[name]))\n",
    "    print(diff(name))\n",
    "    print(classification_report(y_test, preds[name], target_names=target_names))"
   ]
  },
  {
   "cell_type": "code",
   "execution_count": 68,
   "id": "7dbbc42b",
   "metadata": {
    "execution": {
     "iopub.execute_input": "2022-03-20T09:20:52.633667Z",
     "iopub.status.busy": "2022-03-20T09:20:52.632657Z",
     "iopub.status.idle": "2022-03-20T09:20:52.656212Z",
     "shell.execute_reply": "2022-03-20T09:20:52.656683Z",
     "shell.execute_reply.started": "2022-03-20T08:25:41.162462Z"
    },
    "papermill": {
     "duration": 0.092997,
     "end_time": "2022-03-20T09:20:52.656883",
     "exception": false,
     "start_time": "2022-03-20T09:20:52.563886",
     "status": "completed"
    },
    "tags": []
   },
   "outputs": [],
   "source": [
    "f1s = {}\n",
    "for name in models:\n",
    "    f1s[name]=f1_score(y_test, preds[name])\n",
    "f1s=pd.DataFrame(f1s.values(),index=f1s.keys(),columns=[\"F1-score\"])*100"
   ]
  },
  {
   "cell_type": "code",
   "execution_count": 69,
   "id": "c03a3944",
   "metadata": {
    "execution": {
     "iopub.execute_input": "2022-03-20T09:20:52.921531Z",
     "iopub.status.busy": "2022-03-20T09:20:52.920852Z",
     "iopub.status.idle": "2022-03-20T09:20:53.137437Z",
     "shell.execute_reply": "2022-03-20T09:20:53.136823Z",
     "shell.execute_reply.started": "2022-03-20T08:25:41.189408Z"
    },
    "papermill": {
     "duration": 0.284696,
     "end_time": "2022-03-20T09:20:53.137582",
     "exception": false,
     "start_time": "2022-03-20T09:20:52.852886",
     "status": "completed"
    },
    "tags": []
   },
   "outputs": [
    {
     "data": {
      "text/plain": [
       "<AxesSubplot:>"
      ]
     },
     "execution_count": 69,
     "metadata": {},
     "output_type": "execute_result"
    },
    {
     "data": {
      "image/png": "[encoded data removed]",
      "text/plain": [
       "<Figure size 720x432 with 1 Axes>"
      ]
     },
     "metadata": {
      "needs_background": "light"
     },
     "output_type": "display_data"
    }
   ],
   "source": [
    "f1s.plot(kind = \"bar\",  ylim=[80,100], figsize=(10,6), rot=0)"
   ]
  },
  {
   "cell_type": "markdown",
   "id": "aaba17f0",
   "metadata": {},
   "source": [
    "**Hence we proceed on to choose the xgboost or the lightbgm classifcation model to perform intrusion detection using machine learning techniques.**\n",
    "* Different cross validation techniques can be used to and the best performing one is chosen\n",
    "* Similarly, the test train ratio is also determined by considering different possibilities.\n",
    "* Our final selected models exceed the baseline performance by a significant level, and hence attests for an optimized result."
   ]
  }
 ],
 "metadata": {
  "kernelspec": {
   "display_name": "Python 3 (ipykernel)",
   "language": "python",
   "name": "python3"
  },
  "language_info": {
   "codemirror_mode": {
    "name": "ipython",
    "version": 3
   },
   "file_extension": ".py",
   "mimetype": "text/x-python",
   "name": "python",
   "nbconvert_exporter": "python",
   "pygments_lexer": "ipython3",
   "version": "3.9.12"
  },
  "papermill": {
   "default_parameters": {},
   "duration": 111.646398,
   "end_time": "2022-03-20T09:20:54.012468",
   "environment_variables": {},
   "exception": null,
   "input_path": "__notebook__.ipynb",
   "output_path": "__notebook__.ipynb",
   "parameters": {},
   "start_time": "2022-03-20T09:19:02.366070",
   "version": "2.3.3"
  }
 },
 "nbformat": 4,
 "nbformat_minor": 5
}
